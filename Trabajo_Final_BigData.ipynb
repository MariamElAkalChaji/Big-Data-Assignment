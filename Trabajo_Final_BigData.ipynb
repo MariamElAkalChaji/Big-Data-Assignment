{
  "nbformat": 4,
  "nbformat_minor": 0,
  "metadata": {
    "colab": {
      "provenance": [],
      "collapsed_sections": [
        "JpCQywIjiXTS"
      ],
      "include_colab_link": true
    },
    "kernelspec": {
      "name": "python3",
      "display_name": "Python 3"
    },
    "language_info": {
      "name": "python"
    }
  },
  "cells": [
    {
      "cell_type": "markdown",
      "metadata": {
        "id": "view-in-github",
        "colab_type": "text"
      },
      "source": [
        "<a href=\"https://colab.research.google.com/github/MariamElAkalChaji/Big-Data-Assignment/blob/main/Trabajo_Final_BigData.ipynb\" target=\"_parent\"><img src=\"https://colab.research.google.com/assets/colab-badge.svg\" alt=\"Open In Colab\"/></a>"
      ]
    },
    {
      "cell_type": "markdown",
      "source": [
        "# **Pneumonia identification from X-Ray images**\n",
        "\n",
        "*Mariam El Akal Chaji, Ana Karina Ballesteros Gomez, Marina Ortega Angulo*"
      ],
      "metadata": {
        "id": "CwJhxQHNTZI7"
      }
    },
    {
      "cell_type": "markdown",
      "source": [
        "Artificial intelligence (AI), in medicine, is used to improve diagnostic accuracy, patient monitoring, and the development of new treatments [1]. In this field, AI faces several challenges: \n",
        "\n",
        "* **Quality data**: the accuracy of AI depends on the quality of the data, it needs homogeneous and complete data. \n",
        "* **Biases in the data**: AI can replicate biases in training data, which can result in \"discriminatory\" decisions.\n",
        "* **Integration with clinical practice**: it is not fully integrated and it is important that its integration is done correctly.\n",
        "* **Accountability and transparency**: in the decisions made by AI [2,3].\n",
        "* **Reliability and interpretability**: the implementation of AI to clinical decision making must generate results that can be trusted [4].\n",
        "\n",
        "In this case we work with the implementation of AI algorithms for medical image processing. We perform the implementation of three different algorithms for use as diagnostic tools that are based on a deep learning framework. These algorithms allow us to differentiate between pneumonia patients and healthy patients.\n",
        "The three algorithms chosen for this work are: \n",
        "* **ResNet50 model**: it is a multi-layer artificial neural network used for image classification tasks. ResNet50 uses residual learning technique to solve the problem of back propagation in deep networks and improve classification accuracy [5].\n",
        "* **Convolutional Neural Network (cnn) model**: is a type of artificial neural network used to analyze images and detect patterns in them. CNNs use a combination of convolution filter layers and pooling layers to extract features and reduce the dimensionality of the data [6].\n",
        "* **InceptionV3 model**: is an artificial neural network that uses an architecture called Inception to perform image classification. InceptionV3 combines different sizes and types of convolution filters to learn features and classify images [7]."
      ],
      "metadata": {
        "id": "ox1_95E1LuMY"
      }
    },
    {
      "cell_type": "markdown",
      "source": [
        "## **Installing dependencies**"
      ],
      "metadata": {
        "id": "1TRXVB3o10pV"
      }
    },
    {
      "cell_type": "markdown",
      "source": [
        "**Mount Drive**\n"
      ],
      "metadata": {
        "id": "3Ma7ivRSeoQO"
      }
    },
    {
      "cell_type": "code",
      "execution_count": null,
      "metadata": {
        "colab": {
          "base_uri": "https://localhost:8080/"
        },
        "id": "SdYQVCDbvS7v",
        "outputId": "f1fed419-0d7c-435c-a95c-455fdf6d7026"
      },
      "outputs": [
        {
          "output_type": "stream",
          "name": "stdout",
          "text": [
            "Mounted at /content/drive\n"
          ]
        }
      ],
      "source": [
        "from google.colab import drive\n",
        "drive.mount('/content/drive')"
      ]
    },
    {
      "cell_type": "markdown",
      "source": [
        "**Install Big DL**"
      ],
      "metadata": {
        "id": "1C0JTmTneunc"
      }
    },
    {
      "cell_type": "code",
      "source": [
        "!pip install https://sourceforge.net/projects/analytics-zoo/files/dllib-py-spark3/bigdl_dllib_spark3-0.14.0b20211107-py3-none-manylinux1_x86_64.whl"
      ],
      "metadata": {
        "colab": {
          "base_uri": "https://localhost:8080/"
        },
        "id": "MRFzwOz1elW1",
        "outputId": "6c91278d-1a27-4c2d-8285-b0f520874e9f"
      },
      "execution_count": null,
      "outputs": [
        {
          "output_type": "stream",
          "name": "stdout",
          "text": [
            "Looking in indexes: https://pypi.org/simple, https://us-python.pkg.dev/colab-wheels/public/simple/\n",
            "Collecting bigdl-dllib-spark3==0.14.0b20211107\n",
            "  Downloading https://sourceforge.net/projects/analytics-zoo/files/dllib-py-spark3/bigdl_dllib_spark3-0.14.0b20211107-py3-none-manylinux1_x86_64.whl (93.9 MB)\n",
            "\u001b[2K     \u001b[90m━━━━━━━━━━━━━━━━━━━━━━━━━━━━━━━━━━━━━━━━\u001b[0m \u001b[32m93.9/93.9 MB\u001b[0m \u001b[31m7.9 MB/s\u001b[0m eta \u001b[36m0:00:00\u001b[0m\n",
            "\u001b[?25hCollecting pyspark==3.1.2\n",
            "  Downloading pyspark-3.1.2.tar.gz (212.4 MB)\n",
            "\u001b[2K     \u001b[90m━━━━━━━━━━━━━━━━━━━━━━━━━━━━━━━━━━━━━━━\u001b[0m \u001b[32m212.4/212.4 MB\u001b[0m \u001b[31m4.9 MB/s\u001b[0m eta \u001b[36m0:00:00\u001b[0m\n",
            "\u001b[?25h  Preparing metadata (setup.py) ... \u001b[?25l\u001b[?25hdone\n",
            "Requirement already satisfied: numpy>=1.7 in /usr/local/lib/python3.8/dist-packages (from bigdl-dllib-spark3==0.14.0b20211107) (1.21.6)\n",
            "Requirement already satisfied: six>=1.10.0 in /usr/local/lib/python3.8/dist-packages (from bigdl-dllib-spark3==0.14.0b20211107) (1.15.0)\n",
            "Collecting py4j==0.10.9\n",
            "  Downloading py4j-0.10.9-py2.py3-none-any.whl (198 kB)\n",
            "\u001b[2K     \u001b[90m━━━━━━━━━━━━━━━━━━━━━━━━━━━━━━━━━━━━━━\u001b[0m \u001b[32m198.6/198.6 KB\u001b[0m \u001b[31m18.3 MB/s\u001b[0m eta \u001b[36m0:00:00\u001b[0m\n",
            "\u001b[?25hBuilding wheels for collected packages: pyspark\n",
            "  Building wheel for pyspark (setup.py) ... \u001b[?25l\u001b[?25hdone\n",
            "  Created wheel for pyspark: filename=pyspark-3.1.2-py2.py3-none-any.whl size=212880769 sha256=352488ca08de1eae500374b43ed2f3e30b82e17321875a8eaa2b15a1767c8469\n",
            "  Stored in directory: /root/.cache/pip/wheels/df/88/9e/58ef1f74892fef590330ca0830b5b6d995ba29b44f977b3926\n",
            "Successfully built pyspark\n",
            "Installing collected packages: py4j, pyspark, bigdl-dllib-spark3\n",
            "Successfully installed bigdl-dllib-spark3-0.14.0b20211107 py4j-0.10.9 pyspark-3.1.2\n"
          ]
        }
      ]
    },
    {
      "cell_type": "markdown",
      "source": [
        "**Import required packages**"
      ],
      "metadata": {
        "id": "Ng1LtlaZVlGV"
      }
    },
    {
      "cell_type": "code",
      "source": [
        "from pyspark.sql import SparkSession\n",
        "from pyspark.sql.types import DoubleType"
      ],
      "metadata": {
        "id": "IkyR90Xre6yw"
      },
      "execution_count": null,
      "outputs": []
    },
    {
      "cell_type": "code",
      "source": [
        "from bigdl.dllib.nncontext import *\n",
        "from bigdl.dllib.keras.layers import *\n",
        "from bigdl.dllib.keras.models import *\n",
        "import bigdl.dllib.keras\n",
        "from bigdl.dllib.nnframes import *\n",
        "from bigdl.dllib.nn.criterion import *"
      ],
      "metadata": {
        "colab": {
          "base_uri": "https://localhost:8080/"
        },
        "id": "4PcwcrJ9EVhc",
        "outputId": "d4e70e45-5cde-4e9f-d41e-5c9a3db16c37"
      },
      "execution_count": null,
      "outputs": [
        {
          "output_type": "stream",
          "name": "stdout",
          "text": [
            "Prepending /usr/local/lib/python3.8/dist-packages/bigdl/share/dllib/conf/spark-bigdl.conf to sys.path\n"
          ]
        }
      ]
    },
    {
      "cell_type": "code",
      "source": [
        "import tensorflow as tf # It allows building and training deep learning models and performing image classification, natural language processing and regression.\n",
        "from tensorflow import keras # library for implementing artificial neural networks.\n",
        "from tensorflow.keras import layers # provides a wide range of layers for building neural networks. \n",
        "from tensorflow.keras.preprocessing.image import ImageDataGenerator # to generate image data in the appropriate format.\n",
        "from tensorflow.keras.applications.resnet_v2 import ResNet50V2 # implements the ResNet50V2 architecture for image classification.\n",
        "from tensorflow.keras.optimizers import RMSprop # implements the RMSprop optimization algorithm for neural network training.\n",
        "from sklearn.metrics import roc_curve # tool for evaluating the performance of a binary classifier in a receiver operating characteristic (ROC) curve analysis.\n",
        "from sklearn .metrics import roc_auc_score # to compute the area under the ROC curve for binary classifiers.\n",
        "from keras.regularizers import l1 # type of regularization to prevent overfitting that adds an L1 penalty term to the loss function during training\n",
        "from tensorflow.keras.applications.inception_v3 import InceptionV3 #implementation of the Inception V3 architecture.\n",
        "import matplotlib.pyplot as plt # to make some plots"
      ],
      "metadata": {
        "id": "TOSfPYKkVvp7"
      },
      "execution_count": null,
      "outputs": []
    },
    {
      "cell_type": "markdown",
      "source": [
        "**Initialize the Spark Context**"
      ],
      "metadata": {
        "id": "b2hAhZBKvZBC"
      }
    },
    {
      "cell_type": "code",
      "source": [
        "sc = init_nncontext(cluster_mode=\"local\")\n",
        "spark = SparkSession(sc)"
      ],
      "metadata": {
        "colab": {
          "base_uri": "https://localhost:8080/"
        },
        "id": "XBKw3eOLfJfh",
        "outputId": "3698989f-d45d-4bb3-c16d-fd14d4545ee2"
      },
      "execution_count": null,
      "outputs": [
        {
          "output_type": "stream",
          "name": "stdout",
          "text": [
            "Current pyspark location is : /usr/local/lib/python3.8/dist-packages/pyspark/__init__.py\n",
            "Start to getOrCreate SparkContext\n",
            "pyspark_submit_args is:  --driver-class-path /usr/local/lib/python3.8/dist-packages/bigdl/share/dllib/lib/bigdl-dllib-spark_3.1.2-0.14.0-SNAPSHOT-jar-with-dependencies.jar pyspark-shell \n",
            "Successfully got a SparkContext\n"
          ]
        }
      ]
    },
    {
      "cell_type": "markdown",
      "source": [
        "## **Load and preprocess the data**"
      ],
      "metadata": {
        "id": "LQTCTK0YfNh6"
      }
    },
    {
      "cell_type": "code",
      "source": [
        "'''\n",
        "We will update the images using ImageDataGenerator from the tensorflow\n",
        "library, we set the generator. When using ImageDataGenerator we are preprocessing the images. \n",
        "There is no need to normalize because of the rescale feature of ImageDataGenerator.\n",
        "'''\n",
        "\n",
        "IMG_WIDTH=224\n",
        "IMG_HEIGHT=224\n",
        "\n",
        "image_gen = ImageDataGenerator(rescale=1./255, \n",
        "                                     zoom_range=0, \n",
        "                                     rotation_range=0,\n",
        "                                     shear_range=0,\n",
        "                                     horizontal_flip=False,\n",
        "                                     vertical_flip=False)"
      ],
      "metadata": {
        "id": "d3Ppp2aRqNFp"
      },
      "execution_count": null,
      "outputs": []
    },
    {
      "cell_type": "code",
      "source": [
        "'''\n",
        "We set the paths to the different folder. This is something to change\n",
        "if you are planning to run the code.\n",
        "'''\n",
        "\n",
        "test_dir = r'/content/drive/MyDrive/Colab Notebooks/chest_xray/test'\n",
        "train_dir  = r'/content/drive/MyDrive/Colab Notebooks/chest_xray/train'\n",
        "val_dir   = r'/content/drive/MyDrive/Colab Notebooks/chest_xray/val'"
      ],
      "metadata": {
        "id": "3Lx2OnkMqRh2"
      },
      "execution_count": null,
      "outputs": []
    },
    {
      "cell_type": "code",
      "source": [
        "'''\n",
        "We upload the images of the different folders, we set batch size as 32 since althought it is known \n",
        "that the optimal batch size for a deep learning model can vary depending on several factors, in general, \n",
        "a batch size of 32 or 64 is a good starting point. \n",
        "'''\n",
        "train_dataset = image_gen.flow_from_directory(batch_size=32,\n",
        "                                                     directory=train_dir,\n",
        "                                                     shuffle=True,                                                     \n",
        "                                                     target_size=(IMG_HEIGHT, IMG_WIDTH),                                                     \n",
        "                                                     class_mode='binary')\n",
        "\n",
        "test_dataset = image_gen.flow_from_directory(batch_size=32,\n",
        "                                                     directory=test_dir,\n",
        "                                                     shuffle=True,                                                     \n",
        "                                                     target_size=(IMG_HEIGHT, IMG_WIDTH),                                                     \n",
        "                                                     class_mode='binary')\n",
        "\n",
        "\n",
        "validation_dataset = image_gen.flow_from_directory(batch_size=32,\n",
        "                                                 directory=val_dir,                                                 \n",
        "                                                 target_size=(IMG_HEIGHT, IMG_WIDTH),                                                 \n",
        "                                                 class_mode='binary')"
      ],
      "metadata": {
        "colab": {
          "base_uri": "https://localhost:8080/"
        },
        "id": "bG6Am7bxDoTv",
        "outputId": "d862bd59-c316-4110-f243-a788792bbe3a"
      },
      "execution_count": null,
      "outputs": [
        {
          "output_type": "stream",
          "name": "stdout",
          "text": [
            "Found 5216 images belonging to 2 classes.\n",
            "Found 624 images belonging to 2 classes.\n",
            "Found 16 images belonging to 2 classes.\n"
          ]
        }
      ]
    },
    {
      "cell_type": "markdown",
      "source": [
        "## **ResNet50 model**"
      ],
      "metadata": {
        "id": "Pj5cJPqHGsJd"
      }
    },
    {
      "cell_type": "markdown",
      "source": [
        "**Build the ResNet50 model**"
      ],
      "metadata": {
        "id": "ctOicIm4w8tV"
      }
    },
    {
      "cell_type": "code",
      "source": [
        "'''\n",
        "We build a deep learning model known as ResNet50. In order to buld the model the input\n",
        "shape must be determined, the model is pretrained using the weights feature with imagenet\n",
        "images. \n",
        "\n",
        "Posteriorly we build the model by adding different layers and we optimize it using model.compile, \n",
        "we also choose the loss and the metrics we want returned.\n",
        "'''\n",
        "\n",
        "i_shape = (224, 224, 3)\n",
        "\n",
        "resnet = ResNet50V2(weights = 'imagenet', input_shape = i_shape, include_top = False)\n",
        "\n",
        "for layer in resnet.layers:\n",
        "    layer.trainable = False\n",
        "    \n",
        "resnet_model = keras.models.Sequential([resnet,\n",
        "                                        keras.layers.Dense(128, activation = 'relu'),\n",
        "                                        keras.layers.GlobalAveragePooling2D(),\n",
        "                                        keras.layers.Dense(1, activation = 'sigmoid'),\n",
        "                                        keras.layers.Dropout(0.2)\n",
        "])\n",
        "\n",
        "resnet_model.compile(optimizer = RMSprop(learning_rate=0.0001),\n",
        "                     loss = 'binary_crossentropy',\n",
        "                     metrics = ['accuracy'])"
      ],
      "metadata": {
        "id": "ihmMCe6SG0hE",
        "colab": {
          "base_uri": "https://localhost:8080/"
        },
        "outputId": "cc178220-33e6-4f63-edf9-913b082b5c0e"
      },
      "execution_count": null,
      "outputs": [
        {
          "output_type": "stream",
          "name": "stdout",
          "text": [
            "Downloading data from https://storage.googleapis.com/tensorflow/keras-applications/resnet/resnet50v2_weights_tf_dim_ordering_tf_kernels_notop.h5\n",
            "94668760/94668760 [==============================] - 1s 0us/step\n"
          ]
        }
      ]
    },
    {
      "cell_type": "code",
      "source": [
        "resnet_model.summary()"
      ],
      "metadata": {
        "colab": {
          "base_uri": "https://localhost:8080/"
        },
        "id": "ZWfW9_chzPS5",
        "outputId": "35605522-debd-4cff-9ac7-cc1a879ee5e2"
      },
      "execution_count": null,
      "outputs": [
        {
          "output_type": "stream",
          "name": "stdout",
          "text": [
            "Model: \"sequential\"\n",
            "_________________________________________________________________\n",
            " Layer (type)                Output Shape              Param #   \n",
            "=================================================================\n",
            " resnet50v2 (Functional)     (None, 7, 7, 2048)        23564800  \n",
            "                                                                 \n",
            " dense (Dense)               (None, 7, 7, 128)         262272    \n",
            "                                                                 \n",
            " global_average_pooling2d (G  (None, 128)              0         \n",
            " lobalAveragePooling2D)                                          \n",
            "                                                                 \n",
            " dense_1 (Dense)             (None, 1)                 129       \n",
            "                                                                 \n",
            " dropout (Dropout)           (None, 1)                 0         \n",
            "                                                                 \n",
            "=================================================================\n",
            "Total params: 23,827,201\n",
            "Trainable params: 262,401\n",
            "Non-trainable params: 23,564,800\n",
            "_________________________________________________________________\n"
          ]
        }
      ]
    },
    {
      "cell_type": "markdown",
      "source": [
        "**Train the model**"
      ],
      "metadata": {
        "id": "a2AWLoh9xCpX"
      }
    },
    {
      "cell_type": "code",
      "source": [
        "'''\n",
        "We stalbish callbacks, which tells the fitter when to stop training \n",
        "each epoch. In our case, the monitor feature is val_loss and it stops when\n",
        "there is no decrease after 4 round with no changes.\n",
        "'''\n",
        "callback = tf.keras.callbacks.EarlyStopping(monitor = \"val_loss\", \n",
        "                                            mode = \"min\", \n",
        "                                            patience = 4)\n",
        "\n",
        "resnet_train = resnet_model.fit(train_dataset, \n",
        "                                validation_data = validation_dataset, \n",
        "                                steps_per_epoch = 100, \n",
        "                                epochs = 5, \n",
        "                                callbacks = callback, \n",
        "                                batch_size = 32)"
      ],
      "metadata": {
        "id": "Q0WdWo0PKQTS",
        "colab": {
          "base_uri": "https://localhost:8080/"
        },
        "outputId": "de76eb25-5029-4e2b-aa5c-28747b540fd8"
      },
      "execution_count": null,
      "outputs": [
        {
          "output_type": "stream",
          "name": "stdout",
          "text": [
            "Epoch 1/5\n",
            "100/100 [==============================] - 680s 6s/step - loss: 2.7400 - accuracy: 0.7425 - val_loss: 0.3106 - val_accuracy: 0.9375\n",
            "Epoch 2/5\n",
            "100/100 [==============================] - 609s 6s/step - loss: 2.4219 - accuracy: 0.8106 - val_loss: 0.2779 - val_accuracy: 0.9375\n",
            "Epoch 3/5\n",
            "100/100 [==============================] - 597s 6s/step - loss: 2.3749 - accuracy: 0.8200 - val_loss: 0.3665 - val_accuracy: 0.7500\n",
            "Epoch 4/5\n",
            "100/100 [==============================] - 600s 6s/step - loss: 2.5036 - accuracy: 0.8191 - val_loss: 0.1884 - val_accuracy: 0.9375\n",
            "Epoch 5/5\n",
            "100/100 [==============================] - 602s 6s/step - loss: 2.4248 - accuracy: 0.8269 - val_loss: 0.2319 - val_accuracy: 0.9375\n"
          ]
        }
      ]
    },
    {
      "cell_type": "code",
      "source": [
        "'''\n",
        "Posteriorly, we save the model in our drive\n",
        "'''\n",
        "resnet_model.save('/content/drive/MyDrive/resnet_model.h5')"
      ],
      "metadata": {
        "id": "jalkCEKsMssb"
      },
      "execution_count": null,
      "outputs": []
    },
    {
      "cell_type": "markdown",
      "source": [
        "**Evaluating the performance of the ResNet50 model**"
      ],
      "metadata": {
        "id": "KfDlr5CIxE8e"
      }
    },
    {
      "cell_type": "code",
      "source": [
        "'''\n",
        "In order to evaluate the model we use the test dataset, we check the\n",
        "model's accuracy.\n",
        "\n",
        "The accuracy is a measure of the model's ability to correctly classify \n",
        "the samples in the training set.\n",
        "'''\n",
        "resnet_test_accu = resnet_model.evaluate(test_dataset)\n",
        "print('The testing accuracy is :', resnet_test_accu[1]*100, '%')"
      ],
      "metadata": {
        "id": "cUa8fbAJN0tW",
        "colab": {
          "base_uri": "https://localhost:8080/"
        },
        "outputId": "1db33fcb-3d9b-42f0-f26c-3d00d525050f"
      },
      "execution_count": null,
      "outputs": [
        {
          "output_type": "stream",
          "name": "stdout",
          "text": [
            "20/20 [==============================] - 156s 8s/step - loss: 0.3069 - accuracy: 0.8734\n",
            "The testing accuracy is : 87.33974099159241 %\n"
          ]
        }
      ]
    },
    {
      "cell_type": "markdown",
      "source": [
        "**Interpretability**"
      ],
      "metadata": {
        "id": "lRb2G7i6LZe9"
      }
    },
    {
      "cell_type": "code",
      "source": [
        "'''\n",
        "The loss plot is used to evaluate the interpretability of the model.\n",
        "This plot shows the loss of the model over the course of training\n",
        "and allows the effectiveness of the model on the learning task to be evaluated.\n",
        "'''\n",
        "\n",
        "#Plot loss\n",
        "val_loss = resnet_train.history['val_loss']\n",
        "loss = resnet_train.history['loss']\n",
        "\n",
        "# let's plot the performance curve\n",
        "plt.figure()\n",
        "plt.plot(val_loss, label='val_loss')\n",
        "plt.plot(loss, label = 'loss')\n",
        "plt.legend()\n",
        "plt.xlabel('Number of epoch')\n",
        "plt.ylabel('Loss')\n",
        "plt.title('Loss of the ResNetV50 model over the training course')\n",
        "plt.show()"
      ],
      "metadata": {
        "id": "nyb4U6hcLbr-",
        "colab": {
          "base_uri": "https://localhost:8080/",
          "height": 295
        },
        "outputId": "37a38d34-b219-4a4b-9fa0-bbdd54cc23b3"
      },
      "execution_count": null,
      "outputs": [
        {
          "output_type": "display_data",
          "data": {
            "text/plain": [
              "<Figure size 432x288 with 1 Axes>"
            ],
            "image/png": "[encoded data removed]"
          },
          "metadata": {
            "needs_background": "light"
          }
        }
      ]
    },
    {
      "cell_type": "code",
      "source": [
        "'''\n",
        "Accuracy plot is a graphical representation of the accuracy of the model over time\n",
        "during the training process. It shows how the accuracy of the model changes as the number\n",
        "of training iterations increases.\n",
        "'''\n",
        "\n",
        "#Plot accuracies\n",
        "val_acc = resnet_train.history['val_accuracy']\n",
        "acc = resnet_train.history['accuracy']\n",
        "\n",
        "# let's plot the performance curve\n",
        "plt.figure()\n",
        "plt.plot(val_acc, label='val_acc')\n",
        "plt.plot(acc, label = 'accuracy')\n",
        "plt.xlabel('Number of epoch')\n",
        "plt.ylabel('Accuracy')\n",
        "plt.title('Accuracy of the ResNetV50 model over the training course')\n",
        "plt.legend()\n",
        "plt.show()"
      ],
      "metadata": {
        "id": "lO9XxqfNLgW-",
        "colab": {
          "base_uri": "https://localhost:8080/",
          "height": 295
        },
        "outputId": "c0272741-b807-4845-a979-afeb6de157a0"
      },
      "execution_count": null,
      "outputs": [
        {
          "output_type": "display_data",
          "data": {
            "text/plain": [
              "<Figure size 432x288 with 1 Axes>"
            ],
            "image/png": "[encoded data removed]"
          },
          "metadata": {
            "needs_background": "light"
          }
        }
      ]
    },
    {
      "cell_type": "code",
      "source": [
        "'''\n",
        "The ROC curve is a graphical representation of the performance of a model in a binary\n",
        "classification problem.\n",
        "It plots the true positive rate (TPR) against the false positive rate (FPR)\n",
        "'''\n",
        "\n",
        "#Plot ROC CURVE\n",
        "\n",
        "batch_size = 32\n",
        "step_size_test=validation_dataset.n//validation_dataset.batch_size, validation_dataset.reset()\n",
        "resnet_preds = resnet_model.predict(validation_dataset,verbose=1)\n",
        "\n",
        "\n",
        "fpr, tpr, _ = roc_curve(validation_dataset.classes, resnet_preds)\n",
        "roc_auc = roc_auc_score(validation_dataset.classes, resnet_preds)\n",
        "\n",
        "lw = 2\n",
        "plt.plot(fpr, tpr, color='darkorange',\n",
        "lw=lw, label='ROC curve (area = %0.2f)' % roc_auc)\n",
        "plt.plot([0, 1], [0, 1], color='navy', lw=lw, linestyle='--')\n",
        "plt.xlim([0.0, 1.0])\n",
        "plt.ylim([0.0, 1.05])\n",
        "plt.xlabel('False Positive Rate')\n",
        "plt.ylabel('True Positive Rate')\n",
        "plt.title('Receiver operating characteristic example')\n",
        "plt.legend(loc=\"lower right\")\n",
        "plt.show()"
      ],
      "metadata": {
        "id": "Bgfn-399JwU4",
        "colab": {
          "base_uri": "https://localhost:8080/",
          "height": 313
        },
        "outputId": "e0b7ec9a-cccb-4b85-d279-1dc4cfae7cd4"
      },
      "execution_count": null,
      "outputs": [
        {
          "output_type": "stream",
          "name": "stdout",
          "text": [
            "1/1 [==============================] - 3s 3s/step\n"
          ]
        },
        {
          "output_type": "display_data",
          "data": {
            "text/plain": [
              "<Figure size 432x288 with 1 Axes>"
            ],
            "image/png": "[encoded data removed]"
          },
          "metadata": {
            "needs_background": "light"
          }
        }
      ]
    },
    {
      "cell_type": "markdown",
      "source": [
        "## **CNN model**"
      ],
      "metadata": {
        "id": "U8WlJ2re32eB"
      }
    },
    {
      "cell_type": "markdown",
      "source": [
        "**Build the CNN**"
      ],
      "metadata": {
        "id": "EhZM5dNarqTJ"
      }
    },
    {
      "cell_type": "code",
      "source": [
        "'''\n",
        "We build a deep learning model known as CNN model. In order to buld the model the input\n",
        "shape must be determined, the model is pretrained using the weights feature with imagenet\n",
        "images. \n",
        "\n",
        "Posteriorly we build the model by adding different layers and we optimize it using model.compile, \n",
        "we also choose the loss and the metrics we want returned.\n",
        "'''\n",
        "\n",
        "i_shape = (224, 224, 3)\n",
        "\n",
        "cnn_model = keras.models.Sequential([\n",
        "    #convolutional layer and maxpool layer 1\n",
        "    keras.layers.Conv2D(32, (2, 2), activation='relu', input_shape = i_shape),\n",
        "    keras.layers.MaxPooling2D(pool_size = (2, 2)),\n",
        "    #convolutional layer and maxpool layer 2\n",
        "    keras.layers.Conv2D(32, (2, 2), activation='relu'),\n",
        "    keras.layers.MaxPooling2D(pool_size=(2, 2)),\n",
        "    #convolutional layer and maxpool layer 3\n",
        "    keras.layers.Conv2D(64, (2, 2), activation='relu'),\n",
        "    keras.layers.MaxPooling2D(pool_size = (2, 2)),\n",
        "    #convolutional layer and maxpool layer 4\n",
        "    keras.layers.Conv2D(128, (2, 2), activation='relu'),\n",
        "    keras.layers.MaxPooling2D(pool_size = (2, 2)),\n",
        "    #flatten the result\n",
        "    keras.layers.Flatten(),\n",
        "    #hidden layer\n",
        "    keras.layers.Dense(512, activation='relu', activity_regularizer= l1(0.01)),\n",
        "    #output layer\n",
        "    keras.layers.Dense(1, activation ='softmax')\n",
        "])\n",
        "\n",
        "cnn_model.compile(optimizer = keras.optimizers.Adam(learning_rate=0.0001),\n",
        "             loss = 'binary_crossentropy',\n",
        "             metrics=['accuracy'])"
      ],
      "metadata": {
        "id": "dLFOfxsZrtOf"
      },
      "execution_count": null,
      "outputs": []
    },
    {
      "cell_type": "code",
      "source": [
        "cnn_model.summary()"
      ],
      "metadata": {
        "id": "Q2VI_tOY_bMC",
        "colab": {
          "base_uri": "https://localhost:8080/"
        },
        "outputId": "8efb22c0-1489-45a2-96e7-2f4952786edc"
      },
      "execution_count": null,
      "outputs": [
        {
          "output_type": "stream",
          "name": "stdout",
          "text": [
            "Model: \"sequential_1\"\n",
            "_________________________________________________________________\n",
            " Layer (type)                Output Shape              Param #   \n",
            "=================================================================\n",
            " conv2d (Conv2D)             (None, 223, 223, 32)      416       \n",
            "                                                                 \n",
            " max_pooling2d_3 (MaxPooling  (None, 111, 111, 32)     0         \n",
            " 2D)                                                             \n",
            "                                                                 \n",
            " conv2d_1 (Conv2D)           (None, 110, 110, 32)      4128      \n",
            "                                                                 \n",
            " max_pooling2d_4 (MaxPooling  (None, 55, 55, 32)       0         \n",
            " 2D)                                                             \n",
            "                                                                 \n",
            " conv2d_2 (Conv2D)           (None, 54, 54, 64)        8256      \n",
            "                                                                 \n",
            " max_pooling2d_5 (MaxPooling  (None, 27, 27, 64)       0         \n",
            " 2D)                                                             \n",
            "                                                                 \n",
            " conv2d_3 (Conv2D)           (None, 26, 26, 128)       32896     \n",
            "                                                                 \n",
            " max_pooling2d_6 (MaxPooling  (None, 13, 13, 128)      0         \n",
            " 2D)                                                             \n",
            "                                                                 \n",
            " flatten (Flatten)           (None, 21632)             0         \n",
            "                                                                 \n",
            " dense_2 (Dense)             (None, 512)               11076096  \n",
            "                                                                 \n",
            " dense_3 (Dense)             (None, 1)                 513       \n",
            "                                                                 \n",
            "=================================================================\n",
            "Total params: 11,122,305\n",
            "Trainable params: 11,122,305\n",
            "Non-trainable params: 0\n",
            "_________________________________________________________________\n"
          ]
        }
      ]
    },
    {
      "cell_type": "markdown",
      "source": [
        "**Train the model**"
      ],
      "metadata": {
        "id": "JFatIbRus5NE"
      }
    },
    {
      "cell_type": "code",
      "source": [
        "'''\n",
        "We stalbish callbacks, which tells the fitter when to stop training \n",
        "each epoch. In our case, the monitor feature is val_loss and it stops when\n",
        "there is no decrease after 4 round with no changes.\n",
        "'''\n",
        "\n",
        "callback = keras.callbacks.EarlyStopping(monitor='val_loss',\n",
        "                                            patience=3,\n",
        "                                            restore_best_weights=True)\n",
        "\n",
        "cnn_train = cnn_model.fit(train_dataset, \n",
        "                          steps_per_epoch = 100,\n",
        "                          epochs=5, \n",
        "                          validation_data=validation_dataset,\n",
        "                          callbacks= callback, \n",
        "                          batch_size = 32)"
      ],
      "metadata": {
        "id": "8Ek2IjiFs-zk",
        "colab": {
          "base_uri": "https://localhost:8080/"
        },
        "outputId": "da1ccd57-a91f-4ea4-eb8d-511fb451fc59"
      },
      "execution_count": null,
      "outputs": [
        {
          "output_type": "stream",
          "name": "stdout",
          "text": [
            "Epoch 1/5\n",
            "100/100 [==============================] - 265s 3s/step - loss: 0.5933 - accuracy: 0.7319 - val_loss: 0.8769 - val_accuracy: 0.5000\n",
            "Epoch 2/5\n",
            "100/100 [==============================] - 252s 3s/step - loss: 0.4661 - accuracy: 0.7362 - val_loss: 0.6913 - val_accuracy: 0.5000\n",
            "Epoch 3/5\n",
            "100/100 [==============================] - 262s 3s/step - loss: 0.4387 - accuracy: 0.7334 - val_loss: 0.6746 - val_accuracy: 0.5000\n",
            "Epoch 4/5\n",
            "100/100 [==============================] - 253s 3s/step - loss: 0.4155 - accuracy: 0.7416 - val_loss: 0.5933 - val_accuracy: 0.5000\n",
            "Epoch 5/5\n",
            "100/100 [==============================] - 263s 3s/step - loss: 0.3936 - accuracy: 0.7434 - val_loss: 0.6868 - val_accuracy: 0.5000\n"
          ]
        }
      ]
    },
    {
      "cell_type": "code",
      "source": [
        "'''\n",
        "Posteriorly, we save the model in our drive\n",
        "'''\n",
        "cnn_model.save('/content/drive/MyDrive/cnn_model.h5')"
      ],
      "metadata": {
        "id": "9HxSxy_d1e9j"
      },
      "execution_count": null,
      "outputs": []
    },
    {
      "cell_type": "markdown",
      "source": [
        "**Evaluating the performance of CNN**"
      ],
      "metadata": {
        "id": "m0sR892rtutL"
      }
    },
    {
      "cell_type": "code",
      "source": [
        "'''\n",
        "In order to evaluate the model we use the test dataset, we check the\n",
        "model's accuracy.\n",
        "\n",
        "The accuracy is a measure of the model's ability to correctly classify \n",
        "the samples in the training set.\n",
        "'''\n",
        "\n",
        "cnn_test_accu = cnn_model.evaluate(test_dataset)\n",
        "print('The testing accuracy is :', cnn_test_accu[1]*100, '%')"
      ],
      "metadata": {
        "id": "qP3AvB23zvvl",
        "colab": {
          "base_uri": "https://localhost:8080/"
        },
        "outputId": "3773d972-f3be-4092-8e76-3ddf755b97e3"
      },
      "execution_count": null,
      "outputs": [
        {
          "output_type": "stream",
          "name": "stdout",
          "text": [
            "20/20 [==============================] - 19s 966ms/step - loss: 0.7006 - accuracy: 0.6250\n",
            "The testing accuracy is : 62.5 %\n"
          ]
        }
      ]
    },
    {
      "cell_type": "markdown",
      "source": [
        "**Some plots for the model**"
      ],
      "metadata": {
        "id": "6t3W3CKSLV3q"
      }
    },
    {
      "cell_type": "code",
      "source": [
        "'''\n",
        "The loss plot is used to evaluate the interpretability of the model.\n",
        "This plot shows the loss of the model over the course of training\n",
        "and allows the effectiveness of the model on the learning task to be evaluated.\n",
        "'''\n",
        "\n",
        "val_loss = cnn_train.history['val_loss']\n",
        "loss = cnn_train.history['loss']\n",
        "\n",
        "# let's plot the performance curve\n",
        "plt.figure()\n",
        "plt.plot(val_loss, label='val_loss')\n",
        "plt.plot(loss, label = 'loss')\n",
        "plt.xlabel('Number of epoch')\n",
        "plt.ylabel('Loss')\n",
        "plt.title('Loss of the CNN model over the training course')\n",
        "plt.legend()\n",
        "plt.show()"
      ],
      "metadata": {
        "id": "KzXKBaFPLPJ0",
        "colab": {
          "base_uri": "https://localhost:8080/",
          "height": 295
        },
        "outputId": "bf837791-3bea-437e-f6d8-a9871a1ae5e3"
      },
      "execution_count": null,
      "outputs": [
        {
          "output_type": "display_data",
          "data": {
            "text/plain": [
              "<Figure size 432x288 with 1 Axes>"
            ],
            "image/png": "[encoded data removed]"
          },
          "metadata": {
            "needs_background": "light"
          }
        }
      ]
    },
    {
      "cell_type": "code",
      "source": [
        "'''\n",
        "Accuracy plot is a graphical representation of the accuracy of the model over time\n",
        "during the training process. It shows how the accuracy of the model changes as the number\n",
        "of training iterations increases.\n",
        "'''\n",
        "\n",
        "#Plot accuracies\n",
        "val_acc = cnn_train.history['val_accuracy']\n",
        "acc = cnn_train.history['accuracy']\n",
        "\n",
        "# let's plot the performance curve\n",
        "plt.figure()\n",
        "plt.plot(val_acc, label='val_accuracy')\n",
        "plt.plot(acc, label = 'accuracy')\n",
        "plt.legend()\n",
        "plt.xlabel('Number of epoch')\n",
        "plt.ylabel('Accuracy')\n",
        "plt.title('Accuracy of the CNN model over the training course')\n",
        "plt.show()"
      ],
      "metadata": {
        "id": "An8zgskmjKPa",
        "colab": {
          "base_uri": "https://localhost:8080/",
          "height": 295
        },
        "outputId": "813cccc7-44a5-4d82-c87b-784290bccff5"
      },
      "execution_count": null,
      "outputs": [
        {
          "output_type": "display_data",
          "data": {
            "text/plain": [
              "<Figure size 432x288 with 1 Axes>"
            ],
            "image/png": "[encoded data removed]"
          },
          "metadata": {
            "needs_background": "light"
          }
        }
      ]
    },
    {
      "cell_type": "code",
      "source": [
        "'''\n",
        "The ROC curve is a graphical representation of the performance of a model in a binary\n",
        "classification problem.\n",
        "It plots the true positive rate (TPR) against the false positive rate (FPR)\n",
        "'''\n",
        "\n",
        "#Plot ROC CURVE\n",
        "\n",
        "batch_size = 32\n",
        "step_size_test=validation_dataset.n//validation_dataset.batch_size, validation_dataset.reset()\n",
        "cnn_preds = cnn_model.predict(validation_dataset,verbose=1)\n",
        "\n",
        "fpr, tpr, _ = roc_curve(validation_dataset.classes, cnn_preds)\n",
        "roc_auc = roc_auc_score(validation_dataset.classes, resnet_preds)\n",
        "\n",
        "lw = 2\n",
        "plt.plot(fpr, tpr, color='darkorange',\n",
        "lw=lw, label='ROC curve (area = %0.2f)' % roc_auc)\n",
        "plt.plot([0, 1], [0, 1], color='navy', lw=lw, linestyle='--')\n",
        "plt.xlim([0.0, 1.0])\n",
        "plt.ylim([0.0, 1.05])\n",
        "plt.xlabel('False Positive Rate')\n",
        "plt.ylabel('True Positive Rate')\n",
        "plt.title('Receiver operating characteristic example')\n",
        "plt.legend(loc=\"lower right\")\n",
        "plt.show()"
      ],
      "metadata": {
        "id": "nNrltnHRjZz6",
        "colab": {
          "base_uri": "https://localhost:8080/",
          "height": 313
        },
        "outputId": "da4175bf-c887-4ccb-e53e-8f4365b2e1c5"
      },
      "execution_count": null,
      "outputs": [
        {
          "output_type": "stream",
          "name": "stdout",
          "text": [
            "1/1 [==============================] - 1s 738ms/step\n"
          ]
        },
        {
          "output_type": "display_data",
          "data": {
            "text/plain": [
              "<Figure size 432x288 with 1 Axes>"
            ],
            "image/png": "[encoded data removed]"
          },
          "metadata": {
            "needs_background": "light"
          }
        }
      ]
    },
    {
      "cell_type": "markdown",
      "source": [
        "## **InceptionV3 model**"
      ],
      "metadata": {
        "id": "ITjOf3YawvgC"
      }
    },
    {
      "cell_type": "markdown",
      "source": [
        "**Build the InceptionV3 model**"
      ],
      "metadata": {
        "id": "io_dAJVYxULy"
      }
    },
    {
      "cell_type": "code",
      "source": [
        "'''\n",
        "We build a deep learning model known as InceptionV3 model. In order to buld the model the input\n",
        "shape must be determined, the model is pretrained using the weights feature with imagenet\n",
        "images. \n",
        "\n",
        "Posteriorly we build the model by adding different layers and we optimize it using model.compile, \n",
        "we also choose the loss and the metrics we want returned.\n",
        "'''\n",
        "\n",
        "i_shape = (224, 224, 3)\n",
        "\n",
        "V3= InceptionV3(input_shape = i_shape, \n",
        "                       include_top = False, \n",
        "                       weights='imagenet')\n",
        "\n",
        "for layer in V3.layers:\n",
        "  layer.trainable = False"
      ],
      "metadata": {
        "id": "RkQoaoIhwu2_",
        "colab": {
          "base_uri": "https://localhost:8080/"
        },
        "outputId": "6bd79cea-2fcd-4db3-b576-e7a6f2f20d00"
      },
      "execution_count": null,
      "outputs": [
        {
          "output_type": "stream",
          "name": "stdout",
          "text": [
            "Downloading data from https://storage.googleapis.com/tensorflow/keras-applications/inception_v3/inception_v3_weights_tf_dim_ordering_tf_kernels_notop.h5\n",
            "87910968/87910968 [==============================] - 1s 0us/step\n"
          ]
        }
      ]
    },
    {
      "cell_type": "code",
      "source": [
        "x = keras.layers.Flatten()(V3.output)\n",
        "x = keras.layers.Dense(1024, activation='relu')(x)\n",
        "x= keras.layers.Dropout(0.2)(x)\n",
        "x= keras.layers.Dense(1, activation='sigmoid')(x)\n",
        "\n",
        "V3_model = tf.keras.models.Model(V3.input, x)\n",
        "\n",
        "V3_model.compile(optimizer = RMSprop(learning_rate = 0.0001),\n",
        "                 loss = 'binary_crossentropy', \n",
        "                 metrics = ['acc'])"
      ],
      "metadata": {
        "id": "7OepXLhuxfN7"
      },
      "execution_count": null,
      "outputs": []
    },
    {
      "cell_type": "code",
      "source": [
        "V3_model.summary()"
      ],
      "metadata": {
        "id": "7DZzF5AmxhlR",
        "colab": {
          "base_uri": "https://localhost:8080/"
        },
        "outputId": "41cfbf13-db7f-4fe7-e78c-3964735965b9"
      },
      "execution_count": null,
      "outputs": [
        {
          "output_type": "stream",
          "name": "stdout",
          "text": [
            "Model: \"model\"\n",
            "__________________________________________________________________________________________________\n",
            " Layer (type)                   Output Shape         Param #     Connected to                     \n",
            "==================================================================================================\n",
            " input_2 (InputLayer)           [(None, 224, 224, 3  0           []                               \n",
            "                                )]                                                                \n",
            "                                                                                                  \n",
            " conv2d_4 (Conv2D)              (None, 111, 111, 32  864         ['input_2[0][0]']                \n",
            "                                )                                                                 \n",
            "                                                                                                  \n",
            " batch_normalization (BatchNorm  (None, 111, 111, 32  96         ['conv2d_4[0][0]']               \n",
            " alization)                     )                                                                 \n",
            "                                                                                                  \n",
            " activation (Activation)        (None, 111, 111, 32  0           ['batch_normalization[0][0]']    \n",
            "                                )                                                                 \n",
            "                                                                                                  \n",
            " conv2d_5 (Conv2D)              (None, 109, 109, 32  9216        ['activation[0][0]']             \n",
            "                                )                                                                 \n",
            "                                                                                                  \n",
            " batch_normalization_1 (BatchNo  (None, 109, 109, 32  96         ['conv2d_5[0][0]']               \n",
            " rmalization)                   )                                                                 \n",
            "                                                                                                  \n",
            " activation_1 (Activation)      (None, 109, 109, 32  0           ['batch_normalization_1[0][0]']  \n",
            "                                )                                                                 \n",
            "                                                                                                  \n",
            " conv2d_6 (Conv2D)              (None, 109, 109, 64  18432       ['activation_1[0][0]']           \n",
            "                                )                                                                 \n",
            "                                                                                                  \n",
            " batch_normalization_2 (BatchNo  (None, 109, 109, 64  192        ['conv2d_6[0][0]']               \n",
            " rmalization)                   )                                                                 \n",
            "                                                                                                  \n",
            " activation_2 (Activation)      (None, 109, 109, 64  0           ['batch_normalization_2[0][0]']  \n",
            "                                )                                                                 \n",
            "                                                                                                  \n",
            " max_pooling2d_7 (MaxPooling2D)  (None, 54, 54, 64)  0           ['activation_2[0][0]']           \n",
            "                                                                                                  \n",
            " conv2d_7 (Conv2D)              (None, 54, 54, 80)   5120        ['max_pooling2d_7[0][0]']        \n",
            "                                                                                                  \n",
            " batch_normalization_3 (BatchNo  (None, 54, 54, 80)  240         ['conv2d_7[0][0]']               \n",
            " rmalization)                                                                                     \n",
            "                                                                                                  \n",
            " activation_3 (Activation)      (None, 54, 54, 80)   0           ['batch_normalization_3[0][0]']  \n",
            "                                                                                                  \n",
            " conv2d_8 (Conv2D)              (None, 52, 52, 192)  138240      ['activation_3[0][0]']           \n",
            "                                                                                                  \n",
            " batch_normalization_4 (BatchNo  (None, 52, 52, 192)  576        ['conv2d_8[0][0]']               \n",
            " rmalization)                                                                                     \n",
            "                                                                                                  \n",
            " activation_4 (Activation)      (None, 52, 52, 192)  0           ['batch_normalization_4[0][0]']  \n",
            "                                                                                                  \n",
            " max_pooling2d_8 (MaxPooling2D)  (None, 25, 25, 192)  0          ['activation_4[0][0]']           \n",
            "                                                                                                  \n",
            " conv2d_12 (Conv2D)             (None, 25, 25, 64)   12288       ['max_pooling2d_8[0][0]']        \n",
            "                                                                                                  \n",
            " batch_normalization_8 (BatchNo  (None, 25, 25, 64)  192         ['conv2d_12[0][0]']              \n",
            " rmalization)                                                                                     \n",
            "                                                                                                  \n",
            " activation_8 (Activation)      (None, 25, 25, 64)   0           ['batch_normalization_8[0][0]']  \n",
            "                                                                                                  \n",
            " conv2d_10 (Conv2D)             (None, 25, 25, 48)   9216        ['max_pooling2d_8[0][0]']        \n",
            "                                                                                                  \n",
            " conv2d_13 (Conv2D)             (None, 25, 25, 96)   55296       ['activation_8[0][0]']           \n",
            "                                                                                                  \n",
            " batch_normalization_6 (BatchNo  (None, 25, 25, 48)  144         ['conv2d_10[0][0]']              \n",
            " rmalization)                                                                                     \n",
            "                                                                                                  \n",
            " batch_normalization_9 (BatchNo  (None, 25, 25, 96)  288         ['conv2d_13[0][0]']              \n",
            " rmalization)                                                                                     \n",
            "                                                                                                  \n",
            " activation_6 (Activation)      (None, 25, 25, 48)   0           ['batch_normalization_6[0][0]']  \n",
            "                                                                                                  \n",
            " activation_9 (Activation)      (None, 25, 25, 96)   0           ['batch_normalization_9[0][0]']  \n",
            "                                                                                                  \n",
            " average_pooling2d (AveragePool  (None, 25, 25, 192)  0          ['max_pooling2d_8[0][0]']        \n",
            " ing2D)                                                                                           \n",
            "                                                                                                  \n",
            " conv2d_9 (Conv2D)              (None, 25, 25, 64)   12288       ['max_pooling2d_8[0][0]']        \n",
            "                                                                                                  \n",
            " conv2d_11 (Conv2D)             (None, 25, 25, 64)   76800       ['activation_6[0][0]']           \n",
            "                                                                                                  \n",
            " conv2d_14 (Conv2D)             (None, 25, 25, 96)   82944       ['activation_9[0][0]']           \n",
            "                                                                                                  \n",
            " conv2d_15 (Conv2D)             (None, 25, 25, 32)   6144        ['average_pooling2d[0][0]']      \n",
            "                                                                                                  \n",
            " batch_normalization_5 (BatchNo  (None, 25, 25, 64)  192         ['conv2d_9[0][0]']               \n",
            " rmalization)                                                                                     \n",
            "                                                                                                  \n",
            " batch_normalization_7 (BatchNo  (None, 25, 25, 64)  192         ['conv2d_11[0][0]']              \n",
            " rmalization)                                                                                     \n",
            "                                                                                                  \n",
            " batch_normalization_10 (BatchN  (None, 25, 25, 96)  288         ['conv2d_14[0][0]']              \n",
            " ormalization)                                                                                    \n",
            "                                                                                                  \n",
            " batch_normalization_11 (BatchN  (None, 25, 25, 32)  96          ['conv2d_15[0][0]']              \n",
            " ormalization)                                                                                    \n",
            "                                                                                                  \n",
            " activation_5 (Activation)      (None, 25, 25, 64)   0           ['batch_normalization_5[0][0]']  \n",
            "                                                                                                  \n",
            " activation_7 (Activation)      (None, 25, 25, 64)   0           ['batch_normalization_7[0][0]']  \n",
            "                                                                                                  \n",
            " activation_10 (Activation)     (None, 25, 25, 96)   0           ['batch_normalization_10[0][0]'] \n",
            "                                                                                                  \n",
            " activation_11 (Activation)     (None, 25, 25, 32)   0           ['batch_normalization_11[0][0]'] \n",
            "                                                                                                  \n",
            " mixed0 (Concatenate)           (None, 25, 25, 256)  0           ['activation_5[0][0]',           \n",
            "                                                                  'activation_7[0][0]',           \n",
            "                                                                  'activation_10[0][0]',          \n",
            "                                                                  'activation_11[0][0]']          \n",
            "                                                                                                  \n",
            " conv2d_19 (Conv2D)             (None, 25, 25, 64)   16384       ['mixed0[0][0]']                 \n",
            "                                                                                                  \n",
            " batch_normalization_15 (BatchN  (None, 25, 25, 64)  192         ['conv2d_19[0][0]']              \n",
            " ormalization)                                                                                    \n",
            "                                                                                                  \n",
            " activation_15 (Activation)     (None, 25, 25, 64)   0           ['batch_normalization_15[0][0]'] \n",
            "                                                                                                  \n",
            " conv2d_17 (Conv2D)             (None, 25, 25, 48)   12288       ['mixed0[0][0]']                 \n",
            "                                                                                                  \n",
            " conv2d_20 (Conv2D)             (None, 25, 25, 96)   55296       ['activation_15[0][0]']          \n",
            "                                                                                                  \n",
            " batch_normalization_13 (BatchN  (None, 25, 25, 48)  144         ['conv2d_17[0][0]']              \n",
            " ormalization)                                                                                    \n",
            "                                                                                                  \n",
            " batch_normalization_16 (BatchN  (None, 25, 25, 96)  288         ['conv2d_20[0][0]']              \n",
            " ormalization)                                                                                    \n",
            "                                                                                                  \n",
            " activation_13 (Activation)     (None, 25, 25, 48)   0           ['batch_normalization_13[0][0]'] \n",
            "                                                                                                  \n",
            " activation_16 (Activation)     (None, 25, 25, 96)   0           ['batch_normalization_16[0][0]'] \n",
            "                                                                                                  \n",
            " average_pooling2d_1 (AveragePo  (None, 25, 25, 256)  0          ['mixed0[0][0]']                 \n",
            " oling2D)                                                                                         \n",
            "                                                                                                  \n",
            " conv2d_16 (Conv2D)             (None, 25, 25, 64)   16384       ['mixed0[0][0]']                 \n",
            "                                                                                                  \n",
            " conv2d_18 (Conv2D)             (None, 25, 25, 64)   76800       ['activation_13[0][0]']          \n",
            "                                                                                                  \n",
            " conv2d_21 (Conv2D)             (None, 25, 25, 96)   82944       ['activation_16[0][0]']          \n",
            "                                                                                                  \n",
            " conv2d_22 (Conv2D)             (None, 25, 25, 64)   16384       ['average_pooling2d_1[0][0]']    \n",
            "                                                                                                  \n",
            " batch_normalization_12 (BatchN  (None, 25, 25, 64)  192         ['conv2d_16[0][0]']              \n",
            " ormalization)                                                                                    \n",
            "                                                                                                  \n",
            " batch_normalization_14 (BatchN  (None, 25, 25, 64)  192         ['conv2d_18[0][0]']              \n",
            " ormalization)                                                                                    \n",
            "                                                                                                  \n",
            " batch_normalization_17 (BatchN  (None, 25, 25, 96)  288         ['conv2d_21[0][0]']              \n",
            " ormalization)                                                                                    \n",
            "                                                                                                  \n",
            " batch_normalization_18 (BatchN  (None, 25, 25, 64)  192         ['conv2d_22[0][0]']              \n",
            " ormalization)                                                                                    \n",
            "                                                                                                  \n",
            " activation_12 (Activation)     (None, 25, 25, 64)   0           ['batch_normalization_12[0][0]'] \n",
            "                                                                                                  \n",
            " activation_14 (Activation)     (None, 25, 25, 64)   0           ['batch_normalization_14[0][0]'] \n",
            "                                                                                                  \n",
            " activation_17 (Activation)     (None, 25, 25, 96)   0           ['batch_normalization_17[0][0]'] \n",
            "                                                                                                  \n",
            " activation_18 (Activation)     (None, 25, 25, 64)   0           ['batch_normalization_18[0][0]'] \n",
            "                                                                                                  \n",
            " mixed1 (Concatenate)           (None, 25, 25, 288)  0           ['activation_12[0][0]',          \n",
            "                                                                  'activation_14[0][0]',          \n",
            "                                                                  'activation_17[0][0]',          \n",
            "                                                                  'activation_18[0][0]']          \n",
            "                                                                                                  \n",
            " conv2d_26 (Conv2D)             (None, 25, 25, 64)   18432       ['mixed1[0][0]']                 \n",
            "                                                                                                  \n",
            " batch_normalization_22 (BatchN  (None, 25, 25, 64)  192         ['conv2d_26[0][0]']              \n",
            " ormalization)                                                                                    \n",
            "                                                                                                  \n",
            " activation_22 (Activation)     (None, 25, 25, 64)   0           ['batch_normalization_22[0][0]'] \n",
            "                                                                                                  \n",
            " conv2d_24 (Conv2D)             (None, 25, 25, 48)   13824       ['mixed1[0][0]']                 \n",
            "                                                                                                  \n",
            " conv2d_27 (Conv2D)             (None, 25, 25, 96)   55296       ['activation_22[0][0]']          \n",
            "                                                                                                  \n",
            " batch_normalization_20 (BatchN  (None, 25, 25, 48)  144         ['conv2d_24[0][0]']              \n",
            " ormalization)                                                                                    \n",
            "                                                                                                  \n",
            " batch_normalization_23 (BatchN  (None, 25, 25, 96)  288         ['conv2d_27[0][0]']              \n",
            " ormalization)                                                                                    \n",
            "                                                                                                  \n",
            " activation_20 (Activation)     (None, 25, 25, 48)   0           ['batch_normalization_20[0][0]'] \n",
            "                                                                                                  \n",
            " activation_23 (Activation)     (None, 25, 25, 96)   0           ['batch_normalization_23[0][0]'] \n",
            "                                                                                                  \n",
            " average_pooling2d_2 (AveragePo  (None, 25, 25, 288)  0          ['mixed1[0][0]']                 \n",
            " oling2D)                                                                                         \n",
            "                                                                                                  \n",
            " conv2d_23 (Conv2D)             (None, 25, 25, 64)   18432       ['mixed1[0][0]']                 \n",
            "                                                                                                  \n",
            " conv2d_25 (Conv2D)             (None, 25, 25, 64)   76800       ['activation_20[0][0]']          \n",
            "                                                                                                  \n",
            " conv2d_28 (Conv2D)             (None, 25, 25, 96)   82944       ['activation_23[0][0]']          \n",
            "                                                                                                  \n",
            " conv2d_29 (Conv2D)             (None, 25, 25, 64)   18432       ['average_pooling2d_2[0][0]']    \n",
            "                                                                                                  \n",
            " batch_normalization_19 (BatchN  (None, 25, 25, 64)  192         ['conv2d_23[0][0]']              \n",
            " ormalization)                                                                                    \n",
            "                                                                                                  \n",
            " batch_normalization_21 (BatchN  (None, 25, 25, 64)  192         ['conv2d_25[0][0]']              \n",
            " ormalization)                                                                                    \n",
            "                                                                                                  \n",
            " batch_normalization_24 (BatchN  (None, 25, 25, 96)  288         ['conv2d_28[0][0]']              \n",
            " ormalization)                                                                                    \n",
            "                                                                                                  \n",
            " batch_normalization_25 (BatchN  (None, 25, 25, 64)  192         ['conv2d_29[0][0]']              \n",
            " ormalization)                                                                                    \n",
            "                                                                                                  \n",
            " activation_19 (Activation)     (None, 25, 25, 64)   0           ['batch_normalization_19[0][0]'] \n",
            "                                                                                                  \n",
            " activation_21 (Activation)     (None, 25, 25, 64)   0           ['batch_normalization_21[0][0]'] \n",
            "                                                                                                  \n",
            " activation_24 (Activation)     (None, 25, 25, 96)   0           ['batch_normalization_24[0][0]'] \n",
            "                                                                                                  \n",
            " activation_25 (Activation)     (None, 25, 25, 64)   0           ['batch_normalization_25[0][0]'] \n",
            "                                                                                                  \n",
            " mixed2 (Concatenate)           (None, 25, 25, 288)  0           ['activation_19[0][0]',          \n",
            "                                                                  'activation_21[0][0]',          \n",
            "                                                                  'activation_24[0][0]',          \n",
            "                                                                  'activation_25[0][0]']          \n",
            "                                                                                                  \n",
            " conv2d_31 (Conv2D)             (None, 25, 25, 64)   18432       ['mixed2[0][0]']                 \n",
            "                                                                                                  \n",
            " batch_normalization_27 (BatchN  (None, 25, 25, 64)  192         ['conv2d_31[0][0]']              \n",
            " ormalization)                                                                                    \n",
            "                                                                                                  \n",
            " activation_27 (Activation)     (None, 25, 25, 64)   0           ['batch_normalization_27[0][0]'] \n",
            "                                                                                                  \n",
            " conv2d_32 (Conv2D)             (None, 25, 25, 96)   55296       ['activation_27[0][0]']          \n",
            "                                                                                                  \n",
            " batch_normalization_28 (BatchN  (None, 25, 25, 96)  288         ['conv2d_32[0][0]']              \n",
            " ormalization)                                                                                    \n",
            "                                                                                                  \n",
            " activation_28 (Activation)     (None, 25, 25, 96)   0           ['batch_normalization_28[0][0]'] \n",
            "                                                                                                  \n",
            " conv2d_30 (Conv2D)             (None, 12, 12, 384)  995328      ['mixed2[0][0]']                 \n",
            "                                                                                                  \n",
            " conv2d_33 (Conv2D)             (None, 12, 12, 96)   82944       ['activation_28[0][0]']          \n",
            "                                                                                                  \n",
            " batch_normalization_26 (BatchN  (None, 12, 12, 384)  1152       ['conv2d_30[0][0]']              \n",
            " ormalization)                                                                                    \n",
            "                                                                                                  \n",
            " batch_normalization_29 (BatchN  (None, 12, 12, 96)  288         ['conv2d_33[0][0]']              \n",
            " ormalization)                                                                                    \n",
            "                                                                                                  \n",
            " activation_26 (Activation)     (None, 12, 12, 384)  0           ['batch_normalization_26[0][0]'] \n",
            "                                                                                                  \n",
            " activation_29 (Activation)     (None, 12, 12, 96)   0           ['batch_normalization_29[0][0]'] \n",
            "                                                                                                  \n",
            " max_pooling2d_9 (MaxPooling2D)  (None, 12, 12, 288)  0          ['mixed2[0][0]']                 \n",
            "                                                                                                  \n",
            " mixed3 (Concatenate)           (None, 12, 12, 768)  0           ['activation_26[0][0]',          \n",
            "                                                                  'activation_29[0][0]',          \n",
            "                                                                  'max_pooling2d_9[0][0]']        \n",
            "                                                                                                  \n",
            " conv2d_38 (Conv2D)             (None, 12, 12, 128)  98304       ['mixed3[0][0]']                 \n",
            "                                                                                                  \n",
            " batch_normalization_34 (BatchN  (None, 12, 12, 128)  384        ['conv2d_38[0][0]']              \n",
            " ormalization)                                                                                    \n",
            "                                                                                                  \n",
            " activation_34 (Activation)     (None, 12, 12, 128)  0           ['batch_normalization_34[0][0]'] \n",
            "                                                                                                  \n",
            " conv2d_39 (Conv2D)             (None, 12, 12, 128)  114688      ['activation_34[0][0]']          \n",
            "                                                                                                  \n",
            " batch_normalization_35 (BatchN  (None, 12, 12, 128)  384        ['conv2d_39[0][0]']              \n",
            " ormalization)                                                                                    \n",
            "                                                                                                  \n",
            " activation_35 (Activation)     (None, 12, 12, 128)  0           ['batch_normalization_35[0][0]'] \n",
            "                                                                                                  \n",
            " conv2d_35 (Conv2D)             (None, 12, 12, 128)  98304       ['mixed3[0][0]']                 \n",
            "                                                                                                  \n",
            " conv2d_40 (Conv2D)             (None, 12, 12, 128)  114688      ['activation_35[0][0]']          \n",
            "                                                                                                  \n",
            " batch_normalization_31 (BatchN  (None, 12, 12, 128)  384        ['conv2d_35[0][0]']              \n",
            " ormalization)                                                                                    \n",
            "                                                                                                  \n",
            " batch_normalization_36 (BatchN  (None, 12, 12, 128)  384        ['conv2d_40[0][0]']              \n",
            " ormalization)                                                                                    \n",
            "                                                                                                  \n",
            " activation_31 (Activation)     (None, 12, 12, 128)  0           ['batch_normalization_31[0][0]'] \n",
            "                                                                                                  \n",
            " activation_36 (Activation)     (None, 12, 12, 128)  0           ['batch_normalization_36[0][0]'] \n",
            "                                                                                                  \n",
            " conv2d_36 (Conv2D)             (None, 12, 12, 128)  114688      ['activation_31[0][0]']          \n",
            "                                                                                                  \n",
            " conv2d_41 (Conv2D)             (None, 12, 12, 128)  114688      ['activation_36[0][0]']          \n",
            "                                                                                                  \n",
            " batch_normalization_32 (BatchN  (None, 12, 12, 128)  384        ['conv2d_36[0][0]']              \n",
            " ormalization)                                                                                    \n",
            "                                                                                                  \n",
            " batch_normalization_37 (BatchN  (None, 12, 12, 128)  384        ['conv2d_41[0][0]']              \n",
            " ormalization)                                                                                    \n",
            "                                                                                                  \n",
            " activation_32 (Activation)     (None, 12, 12, 128)  0           ['batch_normalization_32[0][0]'] \n",
            "                                                                                                  \n",
            " activation_37 (Activation)     (None, 12, 12, 128)  0           ['batch_normalization_37[0][0]'] \n",
            "                                                                                                  \n",
            " average_pooling2d_3 (AveragePo  (None, 12, 12, 768)  0          ['mixed3[0][0]']                 \n",
            " oling2D)                                                                                         \n",
            "                                                                                                  \n",
            " conv2d_34 (Conv2D)             (None, 12, 12, 192)  147456      ['mixed3[0][0]']                 \n",
            "                                                                                                  \n",
            " conv2d_37 (Conv2D)             (None, 12, 12, 192)  172032      ['activation_32[0][0]']          \n",
            "                                                                                                  \n",
            " conv2d_42 (Conv2D)             (None, 12, 12, 192)  172032      ['activation_37[0][0]']          \n",
            "                                                                                                  \n",
            " conv2d_43 (Conv2D)             (None, 12, 12, 192)  147456      ['average_pooling2d_3[0][0]']    \n",
            "                                                                                                  \n",
            " batch_normalization_30 (BatchN  (None, 12, 12, 192)  576        ['conv2d_34[0][0]']              \n",
            " ormalization)                                                                                    \n",
            "                                                                                                  \n",
            " batch_normalization_33 (BatchN  (None, 12, 12, 192)  576        ['conv2d_37[0][0]']              \n",
            " ormalization)                                                                                    \n",
            "                                                                                                  \n",
            " batch_normalization_38 (BatchN  (None, 12, 12, 192)  576        ['conv2d_42[0][0]']              \n",
            " ormalization)                                                                                    \n",
            "                                                                                                  \n",
            " batch_normalization_39 (BatchN  (None, 12, 12, 192)  576        ['conv2d_43[0][0]']              \n",
            " ormalization)                                                                                    \n",
            "                                                                                                  \n",
            " activation_30 (Activation)     (None, 12, 12, 192)  0           ['batch_normalization_30[0][0]'] \n",
            "                                                                                                  \n",
            " activation_33 (Activation)     (None, 12, 12, 192)  0           ['batch_normalization_33[0][0]'] \n",
            "                                                                                                  \n",
            " activation_38 (Activation)     (None, 12, 12, 192)  0           ['batch_normalization_38[0][0]'] \n",
            "                                                                                                  \n",
            " activation_39 (Activation)     (None, 12, 12, 192)  0           ['batch_normalization_39[0][0]'] \n",
            "                                                                                                  \n",
            " mixed4 (Concatenate)           (None, 12, 12, 768)  0           ['activation_30[0][0]',          \n",
            "                                                                  'activation_33[0][0]',          \n",
            "                                                                  'activation_38[0][0]',          \n",
            "                                                                  'activation_39[0][0]']          \n",
            "                                                                                                  \n",
            " conv2d_48 (Conv2D)             (None, 12, 12, 160)  122880      ['mixed4[0][0]']                 \n",
            "                                                                                                  \n",
            " batch_normalization_44 (BatchN  (None, 12, 12, 160)  480        ['conv2d_48[0][0]']              \n",
            " ormalization)                                                                                    \n",
            "                                                                                                  \n",
            " activation_44 (Activation)     (None, 12, 12, 160)  0           ['batch_normalization_44[0][0]'] \n",
            "                                                                                                  \n",
            " conv2d_49 (Conv2D)             (None, 12, 12, 160)  179200      ['activation_44[0][0]']          \n",
            "                                                                                                  \n",
            " batch_normalization_45 (BatchN  (None, 12, 12, 160)  480        ['conv2d_49[0][0]']              \n",
            " ormalization)                                                                                    \n",
            "                                                                                                  \n",
            " activation_45 (Activation)     (None, 12, 12, 160)  0           ['batch_normalization_45[0][0]'] \n",
            "                                                                                                  \n",
            " conv2d_45 (Conv2D)             (None, 12, 12, 160)  122880      ['mixed4[0][0]']                 \n",
            "                                                                                                  \n",
            " conv2d_50 (Conv2D)             (None, 12, 12, 160)  179200      ['activation_45[0][0]']          \n",
            "                                                                                                  \n",
            " batch_normalization_41 (BatchN  (None, 12, 12, 160)  480        ['conv2d_45[0][0]']              \n",
            " ormalization)                                                                                    \n",
            "                                                                                                  \n",
            " batch_normalization_46 (BatchN  (None, 12, 12, 160)  480        ['conv2d_50[0][0]']              \n",
            " ormalization)                                                                                    \n",
            "                                                                                                  \n",
            " activation_41 (Activation)     (None, 12, 12, 160)  0           ['batch_normalization_41[0][0]'] \n",
            "                                                                                                  \n",
            " activation_46 (Activation)     (None, 12, 12, 160)  0           ['batch_normalization_46[0][0]'] \n",
            "                                                                                                  \n",
            " conv2d_46 (Conv2D)             (None, 12, 12, 160)  179200      ['activation_41[0][0]']          \n",
            "                                                                                                  \n",
            " conv2d_51 (Conv2D)             (None, 12, 12, 160)  179200      ['activation_46[0][0]']          \n",
            "                                                                                                  \n",
            " batch_normalization_42 (BatchN  (None, 12, 12, 160)  480        ['conv2d_46[0][0]']              \n",
            " ormalization)                                                                                    \n",
            "                                                                                                  \n",
            " batch_normalization_47 (BatchN  (None, 12, 12, 160)  480        ['conv2d_51[0][0]']              \n",
            " ormalization)                                                                                    \n",
            "                                                                                                  \n",
            " activation_42 (Activation)     (None, 12, 12, 160)  0           ['batch_normalization_42[0][0]'] \n",
            "                                                                                                  \n",
            " activation_47 (Activation)     (None, 12, 12, 160)  0           ['batch_normalization_47[0][0]'] \n",
            "                                                                                                  \n",
            " average_pooling2d_4 (AveragePo  (None, 12, 12, 768)  0          ['mixed4[0][0]']                 \n",
            " oling2D)                                                                                         \n",
            "                                                                                                  \n",
            " conv2d_44 (Conv2D)             (None, 12, 12, 192)  147456      ['mixed4[0][0]']                 \n",
            "                                                                                                  \n",
            " conv2d_47 (Conv2D)             (None, 12, 12, 192)  215040      ['activation_42[0][0]']          \n",
            "                                                                                                  \n",
            " conv2d_52 (Conv2D)             (None, 12, 12, 192)  215040      ['activation_47[0][0]']          \n",
            "                                                                                                  \n",
            " conv2d_53 (Conv2D)             (None, 12, 12, 192)  147456      ['average_pooling2d_4[0][0]']    \n",
            "                                                                                                  \n",
            " batch_normalization_40 (BatchN  (None, 12, 12, 192)  576        ['conv2d_44[0][0]']              \n",
            " ormalization)                                                                                    \n",
            "                                                                                                  \n",
            " batch_normalization_43 (BatchN  (None, 12, 12, 192)  576        ['conv2d_47[0][0]']              \n",
            " ormalization)                                                                                    \n",
            "                                                                                                  \n",
            " batch_normalization_48 (BatchN  (None, 12, 12, 192)  576        ['conv2d_52[0][0]']              \n",
            " ormalization)                                                                                    \n",
            "                                                                                                  \n",
            " batch_normalization_49 (BatchN  (None, 12, 12, 192)  576        ['conv2d_53[0][0]']              \n",
            " ormalization)                                                                                    \n",
            "                                                                                                  \n",
            " activation_40 (Activation)     (None, 12, 12, 192)  0           ['batch_normalization_40[0][0]'] \n",
            "                                                                                                  \n",
            " activation_43 (Activation)     (None, 12, 12, 192)  0           ['batch_normalization_43[0][0]'] \n",
            "                                                                                                  \n",
            " activation_48 (Activation)     (None, 12, 12, 192)  0           ['batch_normalization_48[0][0]'] \n",
            "                                                                                                  \n",
            " activation_49 (Activation)     (None, 12, 12, 192)  0           ['batch_normalization_49[0][0]'] \n",
            "                                                                                                  \n",
            " mixed5 (Concatenate)           (None, 12, 12, 768)  0           ['activation_40[0][0]',          \n",
            "                                                                  'activation_43[0][0]',          \n",
            "                                                                  'activation_48[0][0]',          \n",
            "                                                                  'activation_49[0][0]']          \n",
            "                                                                                                  \n",
            " conv2d_58 (Conv2D)             (None, 12, 12, 160)  122880      ['mixed5[0][0]']                 \n",
            "                                                                                                  \n",
            " batch_normalization_54 (BatchN  (None, 12, 12, 160)  480        ['conv2d_58[0][0]']              \n",
            " ormalization)                                                                                    \n",
            "                                                                                                  \n",
            " activation_54 (Activation)     (None, 12, 12, 160)  0           ['batch_normalization_54[0][0]'] \n",
            "                                                                                                  \n",
            " conv2d_59 (Conv2D)             (None, 12, 12, 160)  179200      ['activation_54[0][0]']          \n",
            "                                                                                                  \n",
            " batch_normalization_55 (BatchN  (None, 12, 12, 160)  480        ['conv2d_59[0][0]']              \n",
            " ormalization)                                                                                    \n",
            "                                                                                                  \n",
            " activation_55 (Activation)     (None, 12, 12, 160)  0           ['batch_normalization_55[0][0]'] \n",
            "                                                                                                  \n",
            " conv2d_55 (Conv2D)             (None, 12, 12, 160)  122880      ['mixed5[0][0]']                 \n",
            "                                                                                                  \n",
            " conv2d_60 (Conv2D)             (None, 12, 12, 160)  179200      ['activation_55[0][0]']          \n",
            "                                                                                                  \n",
            " batch_normalization_51 (BatchN  (None, 12, 12, 160)  480        ['conv2d_55[0][0]']              \n",
            " ormalization)                                                                                    \n",
            "                                                                                                  \n",
            " batch_normalization_56 (BatchN  (None, 12, 12, 160)  480        ['conv2d_60[0][0]']              \n",
            " ormalization)                                                                                    \n",
            "                                                                                                  \n",
            " activation_51 (Activation)     (None, 12, 12, 160)  0           ['batch_normalization_51[0][0]'] \n",
            "                                                                                                  \n",
            " activation_56 (Activation)     (None, 12, 12, 160)  0           ['batch_normalization_56[0][0]'] \n",
            "                                                                                                  \n",
            " conv2d_56 (Conv2D)             (None, 12, 12, 160)  179200      ['activation_51[0][0]']          \n",
            "                                                                                                  \n",
            " conv2d_61 (Conv2D)             (None, 12, 12, 160)  179200      ['activation_56[0][0]']          \n",
            "                                                                                                  \n",
            " batch_normalization_52 (BatchN  (None, 12, 12, 160)  480        ['conv2d_56[0][0]']              \n",
            " ormalization)                                                                                    \n",
            "                                                                                                  \n",
            " batch_normalization_57 (BatchN  (None, 12, 12, 160)  480        ['conv2d_61[0][0]']              \n",
            " ormalization)                                                                                    \n",
            "                                                                                                  \n",
            " activation_52 (Activation)     (None, 12, 12, 160)  0           ['batch_normalization_52[0][0]'] \n",
            "                                                                                                  \n",
            " activation_57 (Activation)     (None, 12, 12, 160)  0           ['batch_normalization_57[0][0]'] \n",
            "                                                                                                  \n",
            " average_pooling2d_5 (AveragePo  (None, 12, 12, 768)  0          ['mixed5[0][0]']                 \n",
            " oling2D)                                                                                         \n",
            "                                                                                                  \n",
            " conv2d_54 (Conv2D)             (None, 12, 12, 192)  147456      ['mixed5[0][0]']                 \n",
            "                                                                                                  \n",
            " conv2d_57 (Conv2D)             (None, 12, 12, 192)  215040      ['activation_52[0][0]']          \n",
            "                                                                                                  \n",
            " conv2d_62 (Conv2D)             (None, 12, 12, 192)  215040      ['activation_57[0][0]']          \n",
            "                                                                                                  \n",
            " conv2d_63 (Conv2D)             (None, 12, 12, 192)  147456      ['average_pooling2d_5[0][0]']    \n",
            "                                                                                                  \n",
            " batch_normalization_50 (BatchN  (None, 12, 12, 192)  576        ['conv2d_54[0][0]']              \n",
            " ormalization)                                                                                    \n",
            "                                                                                                  \n",
            " batch_normalization_53 (BatchN  (None, 12, 12, 192)  576        ['conv2d_57[0][0]']              \n",
            " ormalization)                                                                                    \n",
            "                                                                                                  \n",
            " batch_normalization_58 (BatchN  (None, 12, 12, 192)  576        ['conv2d_62[0][0]']              \n",
            " ormalization)                                                                                    \n",
            "                                                                                                  \n",
            " batch_normalization_59 (BatchN  (None, 12, 12, 192)  576        ['conv2d_63[0][0]']              \n",
            " ormalization)                                                                                    \n",
            "                                                                                                  \n",
            " activation_50 (Activation)     (None, 12, 12, 192)  0           ['batch_normalization_50[0][0]'] \n",
            "                                                                                                  \n",
            " activation_53 (Activation)     (None, 12, 12, 192)  0           ['batch_normalization_53[0][0]'] \n",
            "                                                                                                  \n",
            " activation_58 (Activation)     (None, 12, 12, 192)  0           ['batch_normalization_58[0][0]'] \n",
            "                                                                                                  \n",
            " activation_59 (Activation)     (None, 12, 12, 192)  0           ['batch_normalization_59[0][0]'] \n",
            "                                                                                                  \n",
            " mixed6 (Concatenate)           (None, 12, 12, 768)  0           ['activation_50[0][0]',          \n",
            "                                                                  'activation_53[0][0]',          \n",
            "                                                                  'activation_58[0][0]',          \n",
            "                                                                  'activation_59[0][0]']          \n",
            "                                                                                                  \n",
            " conv2d_68 (Conv2D)             (None, 12, 12, 192)  147456      ['mixed6[0][0]']                 \n",
            "                                                                                                  \n",
            " batch_normalization_64 (BatchN  (None, 12, 12, 192)  576        ['conv2d_68[0][0]']              \n",
            " ormalization)                                                                                    \n",
            "                                                                                                  \n",
            " activation_64 (Activation)     (None, 12, 12, 192)  0           ['batch_normalization_64[0][0]'] \n",
            "                                                                                                  \n",
            " conv2d_69 (Conv2D)             (None, 12, 12, 192)  258048      ['activation_64[0][0]']          \n",
            "                                                                                                  \n",
            " batch_normalization_65 (BatchN  (None, 12, 12, 192)  576        ['conv2d_69[0][0]']              \n",
            " ormalization)                                                                                    \n",
            "                                                                                                  \n",
            " activation_65 (Activation)     (None, 12, 12, 192)  0           ['batch_normalization_65[0][0]'] \n",
            "                                                                                                  \n",
            " conv2d_65 (Conv2D)             (None, 12, 12, 192)  147456      ['mixed6[0][0]']                 \n",
            "                                                                                                  \n",
            " conv2d_70 (Conv2D)             (None, 12, 12, 192)  258048      ['activation_65[0][0]']          \n",
            "                                                                                                  \n",
            " batch_normalization_61 (BatchN  (None, 12, 12, 192)  576        ['conv2d_65[0][0]']              \n",
            " ormalization)                                                                                    \n",
            "                                                                                                  \n",
            " batch_normalization_66 (BatchN  (None, 12, 12, 192)  576        ['conv2d_70[0][0]']              \n",
            " ormalization)                                                                                    \n",
            "                                                                                                  \n",
            " activation_61 (Activation)     (None, 12, 12, 192)  0           ['batch_normalization_61[0][0]'] \n",
            "                                                                                                  \n",
            " activation_66 (Activation)     (None, 12, 12, 192)  0           ['batch_normalization_66[0][0]'] \n",
            "                                                                                                  \n",
            " conv2d_66 (Conv2D)             (None, 12, 12, 192)  258048      ['activation_61[0][0]']          \n",
            "                                                                                                  \n",
            " conv2d_71 (Conv2D)             (None, 12, 12, 192)  258048      ['activation_66[0][0]']          \n",
            "                                                                                                  \n",
            " batch_normalization_62 (BatchN  (None, 12, 12, 192)  576        ['conv2d_66[0][0]']              \n",
            " ormalization)                                                                                    \n",
            "                                                                                                  \n",
            " batch_normalization_67 (BatchN  (None, 12, 12, 192)  576        ['conv2d_71[0][0]']              \n",
            " ormalization)                                                                                    \n",
            "                                                                                                  \n",
            " activation_62 (Activation)     (None, 12, 12, 192)  0           ['batch_normalization_62[0][0]'] \n",
            "                                                                                                  \n",
            " activation_67 (Activation)     (None, 12, 12, 192)  0           ['batch_normalization_67[0][0]'] \n",
            "                                                                                                  \n",
            " average_pooling2d_6 (AveragePo  (None, 12, 12, 768)  0          ['mixed6[0][0]']                 \n",
            " oling2D)                                                                                         \n",
            "                                                                                                  \n",
            " conv2d_64 (Conv2D)             (None, 12, 12, 192)  147456      ['mixed6[0][0]']                 \n",
            "                                                                                                  \n",
            " conv2d_67 (Conv2D)             (None, 12, 12, 192)  258048      ['activation_62[0][0]']          \n",
            "                                                                                                  \n",
            " conv2d_72 (Conv2D)             (None, 12, 12, 192)  258048      ['activation_67[0][0]']          \n",
            "                                                                                                  \n",
            " conv2d_73 (Conv2D)             (None, 12, 12, 192)  147456      ['average_pooling2d_6[0][0]']    \n",
            "                                                                                                  \n",
            " batch_normalization_60 (BatchN  (None, 12, 12, 192)  576        ['conv2d_64[0][0]']              \n",
            " ormalization)                                                                                    \n",
            "                                                                                                  \n",
            " batch_normalization_63 (BatchN  (None, 12, 12, 192)  576        ['conv2d_67[0][0]']              \n",
            " ormalization)                                                                                    \n",
            "                                                                                                  \n",
            " batch_normalization_68 (BatchN  (None, 12, 12, 192)  576        ['conv2d_72[0][0]']              \n",
            " ormalization)                                                                                    \n",
            "                                                                                                  \n",
            " batch_normalization_69 (BatchN  (None, 12, 12, 192)  576        ['conv2d_73[0][0]']              \n",
            " ormalization)                                                                                    \n",
            "                                                                                                  \n",
            " activation_60 (Activation)     (None, 12, 12, 192)  0           ['batch_normalization_60[0][0]'] \n",
            "                                                                                                  \n",
            " activation_63 (Activation)     (None, 12, 12, 192)  0           ['batch_normalization_63[0][0]'] \n",
            "                                                                                                  \n",
            " activation_68 (Activation)     (None, 12, 12, 192)  0           ['batch_normalization_68[0][0]'] \n",
            "                                                                                                  \n",
            " activation_69 (Activation)     (None, 12, 12, 192)  0           ['batch_normalization_69[0][0]'] \n",
            "                                                                                                  \n",
            " mixed7 (Concatenate)           (None, 12, 12, 768)  0           ['activation_60[0][0]',          \n",
            "                                                                  'activation_63[0][0]',          \n",
            "                                                                  'activation_68[0][0]',          \n",
            "                                                                  'activation_69[0][0]']          \n",
            "                                                                                                  \n",
            " conv2d_76 (Conv2D)             (None, 12, 12, 192)  147456      ['mixed7[0][0]']                 \n",
            "                                                                                                  \n",
            " batch_normalization_72 (BatchN  (None, 12, 12, 192)  576        ['conv2d_76[0][0]']              \n",
            " ormalization)                                                                                    \n",
            "                                                                                                  \n",
            " activation_72 (Activation)     (None, 12, 12, 192)  0           ['batch_normalization_72[0][0]'] \n",
            "                                                                                                  \n",
            " conv2d_77 (Conv2D)             (None, 12, 12, 192)  258048      ['activation_72[0][0]']          \n",
            "                                                                                                  \n",
            " batch_normalization_73 (BatchN  (None, 12, 12, 192)  576        ['conv2d_77[0][0]']              \n",
            " ormalization)                                                                                    \n",
            "                                                                                                  \n",
            " activation_73 (Activation)     (None, 12, 12, 192)  0           ['batch_normalization_73[0][0]'] \n",
            "                                                                                                  \n",
            " conv2d_74 (Conv2D)             (None, 12, 12, 192)  147456      ['mixed7[0][0]']                 \n",
            "                                                                                                  \n",
            " conv2d_78 (Conv2D)             (None, 12, 12, 192)  258048      ['activation_73[0][0]']          \n",
            "                                                                                                  \n",
            " batch_normalization_70 (BatchN  (None, 12, 12, 192)  576        ['conv2d_74[0][0]']              \n",
            " ormalization)                                                                                    \n",
            "                                                                                                  \n",
            " batch_normalization_74 (BatchN  (None, 12, 12, 192)  576        ['conv2d_78[0][0]']              \n",
            " ormalization)                                                                                    \n",
            "                                                                                                  \n",
            " activation_70 (Activation)     (None, 12, 12, 192)  0           ['batch_normalization_70[0][0]'] \n",
            "                                                                                                  \n",
            " activation_74 (Activation)     (None, 12, 12, 192)  0           ['batch_normalization_74[0][0]'] \n",
            "                                                                                                  \n",
            " conv2d_75 (Conv2D)             (None, 5, 5, 320)    552960      ['activation_70[0][0]']          \n",
            "                                                                                                  \n",
            " conv2d_79 (Conv2D)             (None, 5, 5, 192)    331776      ['activation_74[0][0]']          \n",
            "                                                                                                  \n",
            " batch_normalization_71 (BatchN  (None, 5, 5, 320)   960         ['conv2d_75[0][0]']              \n",
            " ormalization)                                                                                    \n",
            "                                                                                                  \n",
            " batch_normalization_75 (BatchN  (None, 5, 5, 192)   576         ['conv2d_79[0][0]']              \n",
            " ormalization)                                                                                    \n",
            "                                                                                                  \n",
            " activation_71 (Activation)     (None, 5, 5, 320)    0           ['batch_normalization_71[0][0]'] \n",
            "                                                                                                  \n",
            " activation_75 (Activation)     (None, 5, 5, 192)    0           ['batch_normalization_75[0][0]'] \n",
            "                                                                                                  \n",
            " max_pooling2d_10 (MaxPooling2D  (None, 5, 5, 768)   0           ['mixed7[0][0]']                 \n",
            " )                                                                                                \n",
            "                                                                                                  \n",
            " mixed8 (Concatenate)           (None, 5, 5, 1280)   0           ['activation_71[0][0]',          \n",
            "                                                                  'activation_75[0][0]',          \n",
            "                                                                  'max_pooling2d_10[0][0]']       \n",
            "                                                                                                  \n",
            " conv2d_84 (Conv2D)             (None, 5, 5, 448)    573440      ['mixed8[0][0]']                 \n",
            "                                                                                                  \n",
            " batch_normalization_80 (BatchN  (None, 5, 5, 448)   1344        ['conv2d_84[0][0]']              \n",
            " ormalization)                                                                                    \n",
            "                                                                                                  \n",
            " activation_80 (Activation)     (None, 5, 5, 448)    0           ['batch_normalization_80[0][0]'] \n",
            "                                                                                                  \n",
            " conv2d_81 (Conv2D)             (None, 5, 5, 384)    491520      ['mixed8[0][0]']                 \n",
            "                                                                                                  \n",
            " conv2d_85 (Conv2D)             (None, 5, 5, 384)    1548288     ['activation_80[0][0]']          \n",
            "                                                                                                  \n",
            " batch_normalization_77 (BatchN  (None, 5, 5, 384)   1152        ['conv2d_81[0][0]']              \n",
            " ormalization)                                                                                    \n",
            "                                                                                                  \n",
            " batch_normalization_81 (BatchN  (None, 5, 5, 384)   1152        ['conv2d_85[0][0]']              \n",
            " ormalization)                                                                                    \n",
            "                                                                                                  \n",
            " activation_77 (Activation)     (None, 5, 5, 384)    0           ['batch_normalization_77[0][0]'] \n",
            "                                                                                                  \n",
            " activation_81 (Activation)     (None, 5, 5, 384)    0           ['batch_normalization_81[0][0]'] \n",
            "                                                                                                  \n",
            " conv2d_82 (Conv2D)             (None, 5, 5, 384)    442368      ['activation_77[0][0]']          \n",
            "                                                                                                  \n",
            " conv2d_83 (Conv2D)             (None, 5, 5, 384)    442368      ['activation_77[0][0]']          \n",
            "                                                                                                  \n",
            " conv2d_86 (Conv2D)             (None, 5, 5, 384)    442368      ['activation_81[0][0]']          \n",
            "                                                                                                  \n",
            " conv2d_87 (Conv2D)             (None, 5, 5, 384)    442368      ['activation_81[0][0]']          \n",
            "                                                                                                  \n",
            " average_pooling2d_7 (AveragePo  (None, 5, 5, 1280)  0           ['mixed8[0][0]']                 \n",
            " oling2D)                                                                                         \n",
            "                                                                                                  \n",
            " conv2d_80 (Conv2D)             (None, 5, 5, 320)    409600      ['mixed8[0][0]']                 \n",
            "                                                                                                  \n",
            " batch_normalization_78 (BatchN  (None, 5, 5, 384)   1152        ['conv2d_82[0][0]']              \n",
            " ormalization)                                                                                    \n",
            "                                                                                                  \n",
            " batch_normalization_79 (BatchN  (None, 5, 5, 384)   1152        ['conv2d_83[0][0]']              \n",
            " ormalization)                                                                                    \n",
            "                                                                                                  \n",
            " batch_normalization_82 (BatchN  (None, 5, 5, 384)   1152        ['conv2d_86[0][0]']              \n",
            " ormalization)                                                                                    \n",
            "                                                                                                  \n",
            " batch_normalization_83 (BatchN  (None, 5, 5, 384)   1152        ['conv2d_87[0][0]']              \n",
            " ormalization)                                                                                    \n",
            "                                                                                                  \n",
            " conv2d_88 (Conv2D)             (None, 5, 5, 192)    245760      ['average_pooling2d_7[0][0]']    \n",
            "                                                                                                  \n",
            " batch_normalization_76 (BatchN  (None, 5, 5, 320)   960         ['conv2d_80[0][0]']              \n",
            " ormalization)                                                                                    \n",
            "                                                                                                  \n",
            " activation_78 (Activation)     (None, 5, 5, 384)    0           ['batch_normalization_78[0][0]'] \n",
            "                                                                                                  \n",
            " activation_79 (Activation)     (None, 5, 5, 384)    0           ['batch_normalization_79[0][0]'] \n",
            "                                                                                                  \n",
            " activation_82 (Activation)     (None, 5, 5, 384)    0           ['batch_normalization_82[0][0]'] \n",
            "                                                                                                  \n",
            " activation_83 (Activation)     (None, 5, 5, 384)    0           ['batch_normalization_83[0][0]'] \n",
            "                                                                                                  \n",
            " batch_normalization_84 (BatchN  (None, 5, 5, 192)   576         ['conv2d_88[0][0]']              \n",
            " ormalization)                                                                                    \n",
            "                                                                                                  \n",
            " activation_76 (Activation)     (None, 5, 5, 320)    0           ['batch_normalization_76[0][0]'] \n",
            "                                                                                                  \n",
            " mixed9_0 (Concatenate)         (None, 5, 5, 768)    0           ['activation_78[0][0]',          \n",
            "                                                                  'activation_79[0][0]']          \n",
            "                                                                                                  \n",
            " concatenate (Concatenate)      (None, 5, 5, 768)    0           ['activation_82[0][0]',          \n",
            "                                                                  'activation_83[0][0]']          \n",
            "                                                                                                  \n",
            " activation_84 (Activation)     (None, 5, 5, 192)    0           ['batch_normalization_84[0][0]'] \n",
            "                                                                                                  \n",
            " mixed9 (Concatenate)           (None, 5, 5, 2048)   0           ['activation_76[0][0]',          \n",
            "                                                                  'mixed9_0[0][0]',               \n",
            "                                                                  'concatenate[0][0]',            \n",
            "                                                                  'activation_84[0][0]']          \n",
            "                                                                                                  \n",
            " conv2d_93 (Conv2D)             (None, 5, 5, 448)    917504      ['mixed9[0][0]']                 \n",
            "                                                                                                  \n",
            " batch_normalization_89 (BatchN  (None, 5, 5, 448)   1344        ['conv2d_93[0][0]']              \n",
            " ormalization)                                                                                    \n",
            "                                                                                                  \n",
            " activation_89 (Activation)     (None, 5, 5, 448)    0           ['batch_normalization_89[0][0]'] \n",
            "                                                                                                  \n",
            " conv2d_90 (Conv2D)             (None, 5, 5, 384)    786432      ['mixed9[0][0]']                 \n",
            "                                                                                                  \n",
            " conv2d_94 (Conv2D)             (None, 5, 5, 384)    1548288     ['activation_89[0][0]']          \n",
            "                                                                                                  \n",
            " batch_normalization_86 (BatchN  (None, 5, 5, 384)   1152        ['conv2d_90[0][0]']              \n",
            " ormalization)                                                                                    \n",
            "                                                                                                  \n",
            " batch_normalization_90 (BatchN  (None, 5, 5, 384)   1152        ['conv2d_94[0][0]']              \n",
            " ormalization)                                                                                    \n",
            "                                                                                                  \n",
            " activation_86 (Activation)     (None, 5, 5, 384)    0           ['batch_normalization_86[0][0]'] \n",
            "                                                                                                  \n",
            " activation_90 (Activation)     (None, 5, 5, 384)    0           ['batch_normalization_90[0][0]'] \n",
            "                                                                                                  \n",
            " conv2d_91 (Conv2D)             (None, 5, 5, 384)    442368      ['activation_86[0][0]']          \n",
            "                                                                                                  \n",
            " conv2d_92 (Conv2D)             (None, 5, 5, 384)    442368      ['activation_86[0][0]']          \n",
            "                                                                                                  \n",
            " conv2d_95 (Conv2D)             (None, 5, 5, 384)    442368      ['activation_90[0][0]']          \n",
            "                                                                                                  \n",
            " conv2d_96 (Conv2D)             (None, 5, 5, 384)    442368      ['activation_90[0][0]']          \n",
            "                                                                                                  \n",
            " average_pooling2d_8 (AveragePo  (None, 5, 5, 2048)  0           ['mixed9[0][0]']                 \n",
            " oling2D)                                                                                         \n",
            "                                                                                                  \n",
            " conv2d_89 (Conv2D)             (None, 5, 5, 320)    655360      ['mixed9[0][0]']                 \n",
            "                                                                                                  \n",
            " batch_normalization_87 (BatchN  (None, 5, 5, 384)   1152        ['conv2d_91[0][0]']              \n",
            " ormalization)                                                                                    \n",
            "                                                                                                  \n",
            " batch_normalization_88 (BatchN  (None, 5, 5, 384)   1152        ['conv2d_92[0][0]']              \n",
            " ormalization)                                                                                    \n",
            "                                                                                                  \n",
            " batch_normalization_91 (BatchN  (None, 5, 5, 384)   1152        ['conv2d_95[0][0]']              \n",
            " ormalization)                                                                                    \n",
            "                                                                                                  \n",
            " batch_normalization_92 (BatchN  (None, 5, 5, 384)   1152        ['conv2d_96[0][0]']              \n",
            " ormalization)                                                                                    \n",
            "                                                                                                  \n",
            " conv2d_97 (Conv2D)             (None, 5, 5, 192)    393216      ['average_pooling2d_8[0][0]']    \n",
            "                                                                                                  \n",
            " batch_normalization_85 (BatchN  (None, 5, 5, 320)   960         ['conv2d_89[0][0]']              \n",
            " ormalization)                                                                                    \n",
            "                                                                                                  \n",
            " activation_87 (Activation)     (None, 5, 5, 384)    0           ['batch_normalization_87[0][0]'] \n",
            "                                                                                                  \n",
            " activation_88 (Activation)     (None, 5, 5, 384)    0           ['batch_normalization_88[0][0]'] \n",
            "                                                                                                  \n",
            " activation_91 (Activation)     (None, 5, 5, 384)    0           ['batch_normalization_91[0][0]'] \n",
            "                                                                                                  \n",
            " activation_92 (Activation)     (None, 5, 5, 384)    0           ['batch_normalization_92[0][0]'] \n",
            "                                                                                                  \n",
            " batch_normalization_93 (BatchN  (None, 5, 5, 192)   576         ['conv2d_97[0][0]']              \n",
            " ormalization)                                                                                    \n",
            "                                                                                                  \n",
            " activation_85 (Activation)     (None, 5, 5, 320)    0           ['batch_normalization_85[0][0]'] \n",
            "                                                                                                  \n",
            " mixed9_1 (Concatenate)         (None, 5, 5, 768)    0           ['activation_87[0][0]',          \n",
            "                                                                  'activation_88[0][0]']          \n",
            "                                                                                                  \n",
            " concatenate_1 (Concatenate)    (None, 5, 5, 768)    0           ['activation_91[0][0]',          \n",
            "                                                                  'activation_92[0][0]']          \n",
            "                                                                                                  \n",
            " activation_93 (Activation)     (None, 5, 5, 192)    0           ['batch_normalization_93[0][0]'] \n",
            "                                                                                                  \n",
            " mixed10 (Concatenate)          (None, 5, 5, 2048)   0           ['activation_85[0][0]',          \n",
            "                                                                  'mixed9_1[0][0]',               \n",
            "                                                                  'concatenate_1[0][0]',          \n",
            "                                                                  'activation_93[0][0]']          \n",
            "                                                                                                  \n",
            " flatten_1 (Flatten)            (None, 51200)        0           ['mixed10[0][0]']                \n",
            "                                                                                                  \n",
            " dense_4 (Dense)                (None, 1024)         52429824    ['flatten_1[0][0]']              \n",
            "                                                                                                  \n",
            " dropout_1 (Dropout)            (None, 1024)         0           ['dense_4[0][0]']                \n",
            "                                                                                                  \n",
            " dense_5 (Dense)                (None, 1)            1025        ['dropout_1[0][0]']              \n",
            "                                                                                                  \n",
            "==================================================================================================\n",
            "Total params: 74,233,633\n",
            "Trainable params: 52,430,849\n",
            "Non-trainable params: 21,802,784\n",
            "__________________________________________________________________________________________________\n"
          ]
        }
      ]
    },
    {
      "cell_type": "markdown",
      "source": [
        "**Train the model**"
      ],
      "metadata": {
        "id": "Xe72Pvv3xtqf"
      }
    },
    {
      "cell_type": "code",
      "source": [
        "'''\n",
        "We stalbish callbacks, which tells the fitter when to stop training \n",
        "each epoch. In our case, the monitor feature is val_loss and it stops when\n",
        "there is no decrease after 4 round with no changes.\n",
        "'''\n",
        "\n",
        "callback = keras.callbacks.EarlyStopping(monitor='val_loss', \n",
        "                                         patience=4, \n",
        "                                         mode = \"min\")\n",
        "\n",
        "V3_train = V3_model.fit(train_dataset,\n",
        "                        callbacks=callback,\n",
        "                        validation_data=validation_dataset, \n",
        "                        steps_per_epoch=100, \n",
        "                        epochs=5, \n",
        "                        batch_size = 32)"
      ],
      "metadata": {
        "id": "enhgDIoCxwnu",
        "colab": {
          "base_uri": "https://localhost:8080/"
        },
        "outputId": "a9f19a43-9983-484e-e600-92f05c2574cd"
      },
      "execution_count": null,
      "outputs": [
        {
          "output_type": "stream",
          "name": "stdout",
          "text": [
            "Epoch 1/5\n",
            "100/100 [==============================] - 555s 5s/step - loss: 1.4897 - acc: 0.8581 - val_loss: 0.6169 - val_acc: 0.8750\n",
            "Epoch 2/5\n",
            "100/100 [==============================] - 545s 5s/step - loss: 0.3442 - acc: 0.9187 - val_loss: 0.8896 - val_acc: 0.7500\n",
            "Epoch 3/5\n",
            "100/100 [==============================] - 548s 5s/step - loss: 0.2526 - acc: 0.9359 - val_loss: 0.3513 - val_acc: 0.9375\n",
            "Epoch 4/5\n",
            "100/100 [==============================] - 549s 5s/step - loss: 0.2512 - acc: 0.9397 - val_loss: 3.9891 - val_acc: 0.5625\n",
            "Epoch 5/5\n",
            "100/100 [==============================] - 552s 6s/step - loss: 0.2076 - acc: 0.9481 - val_loss: 0.4429 - val_acc: 0.9375\n"
          ]
        }
      ]
    },
    {
      "cell_type": "code",
      "source": [
        "'''\n",
        "Posteriorly, we save the model in our drive\n",
        "'''\n",
        "V3_model.save('/content/drive/MyDrive/V3_model.h5')"
      ],
      "metadata": {
        "id": "GYKZ3xDV1p9g"
      },
      "execution_count": null,
      "outputs": []
    },
    {
      "cell_type": "markdown",
      "source": [
        "**Evaluating the performance of the InceptionV3 model**"
      ],
      "metadata": {
        "id": "6ujrgCc71mN7"
      }
    },
    {
      "cell_type": "code",
      "source": [
        "'''\n",
        "In order to evaluate the model we use the test dataset, we check the\n",
        "model's accuracy.\n",
        "\n",
        "The accuracy is a measure of the model's ability to correctly classify \n",
        "the samples in the training set.\n",
        "'''\n",
        "\n",
        "V3_test_accu = V3_model.evaluate(test_dataset)\n",
        "print('The testing accuracy is :', V3_test_accu[1]*100, '%')"
      ],
      "metadata": {
        "id": "OZPc69SLyVLr",
        "colab": {
          "base_uri": "https://localhost:8080/"
        },
        "outputId": "7e8d9ba8-c22e-48dc-d570-10ab896971df"
      },
      "execution_count": null,
      "outputs": [
        {
          "output_type": "stream",
          "name": "stdout",
          "text": [
            "20/20 [==============================] - 96s 5s/step - loss: 0.8582 - acc: 0.8333\n",
            "The testing accuracy is : 83.33333134651184 %\n"
          ]
        }
      ]
    },
    {
      "cell_type": "markdown",
      "source": [
        "**Plots for the model**"
      ],
      "metadata": {
        "id": "Guxg3Zq0LBjC"
      }
    },
    {
      "cell_type": "code",
      "source": [
        "'''\n",
        "The loss plot is used to evaluate the interpretability of the model.\n",
        "This plot shows the loss of the model over the course of training\n",
        "and allows the effectiveness of the model on the learning task to be evaluated.\n",
        "'''\n",
        "\n",
        "val_loss = V3_train.history['val_loss']\n",
        "loss = V3_train.history['loss']\n",
        "\n",
        "# let's plot the performance curve\n",
        "plt.figure()\n",
        "plt.plot(val_loss, label='val_loss')\n",
        "plt.plot(loss, label = 'loss')\n",
        "plt.xlabel('Number of epoch')\n",
        "plt.ylabel('Loss')\n",
        "plt.title('Loss of the Inception V3 model over the training course')\n",
        "plt.legend()\n",
        "plt.show()"
      ],
      "metadata": {
        "id": "1ixNzqhIyvet",
        "colab": {
          "base_uri": "https://localhost:8080/",
          "height": 295
        },
        "outputId": "1a3442d4-fd0c-4583-e725-5276ffd78940"
      },
      "execution_count": null,
      "outputs": [
        {
          "output_type": "display_data",
          "data": {
            "text/plain": [
              "<Figure size 432x288 with 1 Axes>"
            ],
            "image/png": "[encoded data removed]"
          },
          "metadata": {
            "needs_background": "light"
          }
        }
      ]
    },
    {
      "cell_type": "code",
      "source": [
        "'''\n",
        "Accuracy plot is a graphical representation of the accuracy of the model over time\n",
        "during the training process. It shows how the accuracy of the model changes as the number\n",
        "of training iterations increases.\n",
        "'''\n",
        "\n",
        "#Plot accuracies\n",
        "val_acc = V3_train.history['val_acc']\n",
        "acc = V3_train.history['acc']\n",
        "\n",
        "# let's plot the performance curve\n",
        "plt.figure()\n",
        "plt.plot(val_acc, label='val_accuracy')\n",
        "plt.plot(acc, label = 'acc')\n",
        "plt.legend()\n",
        "plt.xlabel('Number of epoch')\n",
        "plt.ylabel('Accuracy')\n",
        "plt.title('Accuracy of the Inception V3 model over the training course')\n",
        "plt.show()"
      ],
      "metadata": {
        "id": "s6OKFZjX4G8g",
        "colab": {
          "base_uri": "https://localhost:8080/",
          "height": 295
        },
        "outputId": "42631534-0426-4603-9888-129501142f5b"
      },
      "execution_count": null,
      "outputs": [
        {
          "output_type": "display_data",
          "data": {
            "text/plain": [
              "<Figure size 432x288 with 1 Axes>"
            ],
            "image/png": "[encoded data removed]"
          },
          "metadata": {
            "needs_background": "light"
          }
        }
      ]
    },
    {
      "cell_type": "code",
      "source": [
        "'''\n",
        "The ROC curve is a graphical representation of the performance of a model in a binary\n",
        "classification problem.\n",
        "It plots the true positive rate (TPR) against the false positive rate (FPR)\n",
        "'''\n",
        "\n",
        "batch_size = 32\n",
        "step_size_test=validation_dataset.n//validation_dataset.batch_size, validation_dataset.reset()\n",
        "V3_preds = V3_model.predict(validation_dataset,verbose=1)\n",
        "\n",
        "fpr, tpr, _ = roc_curve(validation_dataset.classes, V3_preds)\n",
        "roc_auc = roc_auc_score(validation_dataset.classes, resnet_preds)\n",
        "\n",
        "lw = 2\n",
        "plt.plot(fpr, tpr, color='darkorange',\n",
        "lw=lw, label='ROC curve (area = %0.2f)' % roc_auc)\n",
        "plt.plot([0, 1], [0, 1], color='navy', lw=lw, linestyle='--')\n",
        "plt.xlim([0.0, 1.0])\n",
        "plt.ylim([0.0, 1.05])\n",
        "plt.xlabel('False Positive Rate')\n",
        "plt.ylabel('True Positive Rate')\n",
        "plt.title('Receiver operating characteristic example')\n",
        "plt.legend(loc=\"lower right\")\n",
        "plt.show()"
      ],
      "metadata": {
        "id": "_RWMmRpeH23R",
        "colab": {
          "base_uri": "https://localhost:8080/",
          "height": 313
        },
        "outputId": "cb3502e0-e0c9-44b4-9973-bf3a8d617cc6"
      },
      "execution_count": null,
      "outputs": [
        {
          "output_type": "stream",
          "name": "stdout",
          "text": [
            "1/1 [==============================] - 3s 3s/step\n"
          ]
        },
        {
          "output_type": "display_data",
          "data": {
            "text/plain": [
              "<Figure size 432x288 with 1 Axes>"
            ],
            "image/png": "[encoded data removed]"
          },
          "metadata": {
            "needs_background": "light"
          }
        }
      ]
    },
    {
      "cell_type": "markdown",
      "source": [
        "## **Discussion**"
      ],
      "metadata": {
        "id": "JpCQywIjiXTS"
      }
    },
    {
      "cell_type": "markdown",
      "source": [
        "A well-trained **loss graph** should show a decreasing trend in loss as the model is trained, indicating that it is learning and getting better at the learning task. If the loss does not decrease or shows an erratic trend, the model may be overfitted or not working properly.\n",
        "\n",
        "In addition, comparing the loss graph between different models can help to choose the most appropriate model for a specific task. \n",
        "\n",
        "In our case, observing the loss graphs we can see that in the case of the **resnet50 model** the loss of the training set in global computation decreases reaching between 2.74-2.42, although over time it has a somewhat erratic behavior, we can observe how the loss of the validation set remains very small, below 0.4.\n",
        "\n",
        "In the case of the **cnn model** we can observe that the same thing happens, the loss of the training set in global computation tends to decrease from around 0.6 to below 0.4 and the loss of the validation set also tends to decrease to below 0.6. \n",
        "\n",
        "In the **InceptionV3 model**, the training set loss decreases drastically in the first steps and then continues to decrease but in a more stable way, ending up with a loss around 0.2. In the case of the loss of the validation set we can see that the total computation is that it tends to decrease although over time it also increases, finally it goes from being a loss of around 0.8 to a loss below 0.6, passing by a big loss of almost 4.\n",
        "\n",
        "An **accuracy plot** is a graphical representation of the accuracy of a model over time. The graph shows how the accuracy of the model changes as the number of iterations increases. Accuracy is a measure of the model's ability to correctly classify the samples in the training set.\n",
        "\n",
        "A well-trained model should show a general increasing trend in accuracy over time, indicating that the model is improving in its ability to correctly classify the samples. If the accuracy stagnates or decreases over time, it may indicate that the model is overfitting the data or that the learning rate is too high.\n",
        "\n",
        "We use the accuracy plot to compare the performance of different models. For example, a model with a higher accuracy is generally considered a better model than one with a lower accuracy. The accuracy plot can also be used to tune the model by adjusting the hyperparameters, such as the learning rate or the number of training iterations, to achieve the best performance.\n",
        "\n",
        "In the **resnet50 model** we can observe that the accuracy of the model for the training set increases rapidly at the beginning but at some point the growth stagnates although it continues to increase, we can observe that the highest accuracy occurs in the last Epoch and is 0.8269, while the accuracy for the validation set reaches its maximum value in the first and second Epoch reaching a value of 0.9375.\n",
        "\n",
        "In the case of the **cnn model** we see that the accuracy obtained for both the training set and the validation set is stagnant throughout the epochs. In the case of the training set the best accuracy is obtained in the last Epoch with a value of 0.7434 and in the validation set it always remains at 0.5.\n",
        "\n",
        "Finally, in the **InceptionV3 model** we can observe how for the training set the accuracy gradually increases during the Epocs reaching the highest value in the last Epoc with a value of 0.9481 and in the case of the accuracy for the validation set we can observe that it varies, reaching in the last Epoch an accuracy of 0.9375.\n",
        "\n",
        "The accuracy and loss values for the test sets are found for the resnet50 model at an accuracy of 0.8734 and a loss of 0.3069, the cnn model at an accuracy of 0.625 and a loss of 0.7006 and finally the InceptionV3 model for the test set has a precision of 0.8333 and a loss of 0.8582.\n",
        "\n",
        "The **ROC curve** is a useful tool for evaluating the performance of a ResNet50 model because it provides a visual representation of the trade-off between TPR and FPR. A model with a high TPR will correctly identify many positive cases, but may also have a high FPR and incorrectly classify many negative cases as positive. On the other hand, a model with a low FPR will correctly identify many negative cases, but may have a low TPR and fail to identify many positive cases. The ROC curve allows us to find the optimal balance between TPR and FPR by choosing the classification threshold that results in the best balance between these two metrics.\n",
        "\n",
        "The diagonal in a ROC curve plot indicates the performance of the model when it is equivalent to a random model, since the TPR and FPR are equal. That is, the model is randomly classifying observations without taking into account any relevant information.\n",
        "\n",
        "The area under the curve (AUC) is a commonly used measure to compare the performance of different models. A model that is better than a random model will have an AUC greater than 0.5, while a worse model will have an AUC less than 0.5. A perfect model will have an AUC of 1.0, which means that all positive observations are correctly classified and all negative observations are incorrectly classified.\n",
        "\n",
        "Therefore, for the **resnet50 model** we can see that the AUC value is low, 0.55, and the line indicating the ROC curve is very close to the diagonal.\n",
        "\n",
        "In the **cnn model** we can see that it gives us a ROC curve line that is exactly the diagonal and an AUC of 0.55.\n",
        "\n",
        "In the **InceptionV3 model** we can see that the same happens as for resnet50, the AUC value is  0.55 and the ROC curve is very close to the diagonal.\n",
        "\n"
      ],
      "metadata": {
        "id": "bQ5R53HYO5mh"
      }
    },
    {
      "cell_type": "markdown",
      "source": [
        "## **Conclusion**"
      ],
      "metadata": {
        "id": "YsRmujHriRrK"
      }
    },
    {
      "cell_type": "markdown",
      "source": [
        "According to the results obtained for the **resnet50 model** we can assure that the best number of epochs for its analysis would have been 1-2 epochs since this is when the accuracy of the model for the validation data set is the highest and for the training data set it is more or less maintained throughout the epochs after the second epoch.\n",
        "\n",
        "In the case of the **cnn model**, the accuracy of the validation set remains at 0.5 throughout the epochs, indicating that the model is classifying the observations randomly, without taking into account any relevant information.  An accuracy of 0.5 implies that the model has a similar hit rate and error rate, so its performance is equivalent to that of a random model. This could be because the model is not learning due to lack of relevant information in the training data; it could be due to the lack of parameters but we obtained the same result by increasing layers and epochs and changing the parameters used so we understand that our problem is not due to this, it could be because the training data is unbalanced but, not having obtained this problem with the other two models we discard this option as well and it could be that the model is overfitting to the training data and does not generalize well to new data. So it could be because the cnn model is not a good model for the analysis of our data. That the model has random behavior is corroborated by the ROC curve obtained for it.\n",
        "\n",
        "In the case of the **InceptionV3 model** we can observe that for the measurement of the model accuracy having used 3 epochs would have been enough to obtain good results since the accuracy of the training set in the following epochs does not increase too much and in the case of the validation set it remains the same. The same is also true for the calculation of the loss with 3 epochs would have been enough to obtain good results.\n",
        "\n",
        "After all that we have previously commented on the three models generated to adequately classify the images, and taking into account the results obtained, we can say that the **Inception V3 model** is the most suitable of the three to adequately classify the images (as we have already mentioned we have obtained high accuracy in the classification of the training, validation and test images). Some of the advantages of the deep learning models based on Inception include that it is able to learn complex features, also it allows an efficient use of computational resources and also it makes possible to transfer the learning of this pre-trained model to our own data (because we can use the pre-trained weights as a start points). \n",
        "\n",
        "So, in conclusion Inception V3 is a robust and reliable model for this problem of image classification that has demostrated good performance for this image classification problem. "
      ],
      "metadata": {
        "id": "WIYPAcjgM4CE"
      }
    },
    {
      "cell_type": "markdown",
      "source": [
        "## **Bibliography**"
      ],
      "metadata": {
        "id": "BcHNvwSGzUw1"
      }
    },
    {
      "cell_type": "markdown",
      "source": [
        "1. Esteva, A., Kuprel, B., Novoa, R.A., Ko, J., Swetter, S.M., Blau, H.M. and Thrun, S., 2017. Dermatologist-level classification of skin cancer with deep neural networks. Nature, 542(7639), pp.115-118.\n",
        "2. Chen, Y., Wang, L. and Wong, C.K., 2020. Artificial intelligence in ophthalmology: opportunities and challenges. International Journal of Ophthalmology, 13(11), pp.1791-1796.\n",
        "3. Jia, Y., Kostkova, P., De dreu, M.J., Paton, N.W. and Weber, J., 2020. Artificial intelligence in healthcare: ethical and social implications. The Lancet Digital Health, 2(7), pp.e307-e317.\n",
        "4. Kermany, D. S. (2018, 22 febrero). Identifying Medical Diagnoses and Treatable Diseases by Image-Based Deep Learning. Cell. https://www.cell.com/cell/fulltext/S0092-8674(18)30154-5\n",
        "5. He, K., Zhang, X., Ren, S. and Sun, J., 2016. Deep residual learning for image recognition. In Proceedings of the IEEE conference on computer vision and pattern recognition (pp. 770-778).\n",
        "6. Krizhevsky, A., Sutskever, I. and Hinton, G.E., 2012. ImageNet classification with deep convolutional neural networks. In Advances in neural information processing systems (pp. 1097-1105).\n",
        "7. Szegedy, C., Vanhoucke, V., Ioffe, S., Shlens, J. and Wojna, Z., 2016. Rethinking the inception architecture for computer vision. In Proceedings of the IEEE conference on computer vision and pattern recognition (pp. 2818-2826).\n",
        "8. Colab user guide#. Colab User Guide - BigDL latest documentation. (n.d.). Retrieved February 7, 2023, from https://bigdl.readthedocs.io/en/latest/doc/UserGuide/colab.html \n",
        "9. Khandelwal, R. (2020, August 21). Input pipeline for images using Keras and tensorflow. Medium. Retrieved February 7, 2023, from https://towardsdatascience.com/input-pipeline-for-images-using-keras-and-tensorflow-c5e107b6d7b9 \n",
        "\n",
        "10. How to build a simple CNN based image classifier using Keras. Milind Soorya. (2022, June 1). Retrieved February 7, 2023, from https://www.milindsoorya.com/blog/how-to-build-a-simple-cnn-based-image-classifier-using-keras \n",
        "11. Team, K. (n.d.). Keras documentation: Introduction to keras for engineers. Keras. Retrieved February 7, 2023, from https://keras.io/getting_started/intro_to_keras_for_engineers/ \n",
        "12. Chollet, F. (n.d.). The keras blog. The Keras Blog ATOM. Retrieved February 7, 2023, from https://blog.keras.io/building-powerful-image-classification-models-using-very-little-data.html \n",
        "13. KeepCoding, R. (2022, August 26). Preprocesamiento de Imágenes de Entrada. KeepCoding Tech School. Retrieved February 7, 2023, from https://keepcoding.io/blog/preprocesamiento-imagenes-entrada/ \n",
        "14. Phan, B. (2020, July 6). 10 minutes to building a CNN binary image classifier in tensorflow. Medium. Retrieved February 7, 2023, from https://towardsdatascience.com/10-minutes-to-building-a-cnn-binary-image-classifier-in-tensorflow-4e216b2034aa "
      ],
      "metadata": {
        "id": "tLvi49AzL6eq"
      }
    }
  ]
}